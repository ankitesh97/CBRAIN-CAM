{
 "cells": [
  {
   "cell_type": "markdown",
   "metadata": {},
   "source": [
    "# Is it worth the effort to use TFRecords?\n",
    "\n",
    "What are the potential benefits? \n",
    "\n",
    "- Speed\n",
    "- No need for pre-stacking vectors --> More flexible during training"
   ]
  },
  {
   "cell_type": "code",
   "execution_count": 2,
   "metadata": {},
   "outputs": [],
   "source": [
    "import xarray as xr\n",
    "import numpy as np\n",
    "import tensorflow as tf"
   ]
  },
  {
   "cell_type": "markdown",
   "metadata": {},
   "source": [
    "## Load some example data"
   ]
  },
  {
   "cell_type": "code",
   "execution_count": 1,
   "metadata": {},
   "outputs": [],
   "source": [
    "DATADIR = '/local/S.Rasp/sp32fbp_andkua/'"
   ]
  },
  {
   "cell_type": "code",
   "execution_count": 3,
   "metadata": {},
   "outputs": [],
   "source": [
    "aqua = xr.open_dataset(DATADIR + 'AndKua_aqua_SPCAM3.0_sp_fbp32.cam2.h1.0000-01-02-00000.nc', decode_times=False)"
   ]
  },
  {
   "cell_type": "code",
   "execution_count": 4,
   "metadata": {},
   "outputs": [
    {
     "data": {
      "text/plain": [
       "<xarray.Dataset>\n",
       "Dimensions:       (crm_x: 32, crm_y: 1, crm_z: 28, ilev: 31, isccp_prs: 7, isccp_prstau: 49, isccp_tau: 7, lat: 64, lev: 30, lon: 128, tbnd: 2, time: 48)\n",
       "Coordinates:\n",
       "  * lat           (lat) float64 -87.86 -85.1 -82.31 -79.53 ... 82.31 85.1 87.86\n",
       "  * lon           (lon) float64 0.0 2.812 5.625 8.438 ... 351.6 354.4 357.2\n",
       "  * crm_x         (crm_x) float64 0.0 4.0 8.0 12.0 ... 112.0 116.0 120.0 124.0\n",
       "  * crm_y         (crm_y) float64 0.0\n",
       "  * crm_z         (crm_z) float64 992.6 976.3 957.5 936.2 ... 38.27 24.61 14.36\n",
       "  * lev           (lev) float64 3.643 7.595 14.36 24.61 ... 957.5 976.3 992.6\n",
       "  * ilev          (ilev) float64 2.255 5.032 10.16 18.56 ... 967.5 985.1 1e+03\n",
       "  * isccp_prs     (isccp_prs) float64 90.0 245.0 375.0 500.0 620.0 740.0 900.0\n",
       "  * isccp_tau     (isccp_tau) float64 0.15 0.8 2.45 6.5 16.2 41.5 219.5\n",
       "  * isccp_prstau  (isccp_prstau) float64 90.0 90.0 90.0 ... 900.0 900.0 900.2\n",
       "  * time          (time) float64 1.0 1.021 1.042 1.062 ... 1.938 1.958 1.979\n",
       "Dimensions without coordinates: tbnd\n",
       "Data variables:\n",
       "    P0            float64 ...\n",
       "    time_bnds     (time, tbnd) float64 ...\n",
       "    date_written  (time) |S8 ...\n",
       "    time_written  (time) |S8 ...\n",
       "    ntrm          int32 ...\n",
       "    ntrn          int32 ...\n",
       "    ntrk          int32 ...\n",
       "    ndbase        int32 ...\n",
       "    nsbase        int32 ...\n",
       "    nbdate        int32 ...\n",
       "    nbsec         int32 ...\n",
       "    mdt           int32 ...\n",
       "    nlon          (lat) int32 ...\n",
       "    wnummax       (lat) int32 ...\n",
       "    hyai          (ilev) float64 ...\n",
       "    hybi          (ilev) float64 ...\n",
       "    hyam          (lev) float64 ...\n",
       "    hybm          (lev) float64 ...\n",
       "    gw            (lat) float64 ...\n",
       "    ndcur         (time) int32 ...\n",
       "    nscur         (time) int32 ...\n",
       "    date          (time) int32 ...\n",
       "    datesec       (time) int32 ...\n",
       "    nsteph        (time) int32 ...\n",
       "    DTV           (time, lev, lat, lon) float32 ...\n",
       "    DTVKE         (time, lev, lat, lon) float32 ...\n",
       "    FLNS          (time, lat, lon) float32 ...\n",
       "    FLNT          (time, lat, lon) float32 ...\n",
       "    FLUT          (time, lat, lon) float32 ...\n",
       "    FSNS          (time, lat, lon) float32 ...\n",
       "    FSNT          (time, lat, lon) float32 ...\n",
       "    LHFLX         (time, lat, lon) float32 ...\n",
       "    PHCLDICE      (time, lev, lat, lon) float32 ...\n",
       "    PHCLDLIQ      (time, lev, lat, lon) float32 ...\n",
       "    PHQ           (time, lev, lat, lon) float32 ...\n",
       "    PRECC         (time, lat, lon) float32 ...\n",
       "    PRECL         (time, lat, lon) float32 ...\n",
       "    PRECSC        (time, lat, lon) float32 ...\n",
       "    PRECSL        (time, lat, lon) float32 ...\n",
       "    PRECSTEN      (time, lat, lon) float32 ...\n",
       "    PRECT         (time, lat, lon) float32 ...\n",
       "    PRECTEND      (time, lat, lon) float32 ...\n",
       "    PS            (time, lat, lon) float32 ...\n",
       "    QAP           (time, lev, lat, lon) float32 ...\n",
       "    QCAP          (time, lev, lat, lon) float32 ...\n",
       "    QIAP          (time, lev, lat, lon) float32 ...\n",
       "    QRL           (time, lev, lat, lon) float32 ...\n",
       "    QRS           (time, lev, lat, lon) float32 ...\n",
       "    SHFLX         (time, lat, lon) float32 ...\n",
       "    SOLIN         (time, lat, lon) float32 ...\n",
       "    SPDQ          (time, lev, lat, lon) float32 ...\n",
       "    SPDT          (time, lev, lat, lon) float32 ...\n",
       "    T             (time, lev, lat, lon) float32 ...\n",
       "    TAP           (time, lev, lat, lon) float32 ...\n",
       "    TPHYSTND      (time, lev, lat, lon) float32 ...\n",
       "    TS            (time, lat, lon) float32 ...\n",
       "    UAP           (time, lev, lat, lon) float32 ...\n",
       "    VAP           (time, lev, lat, lon) float32 ...\n",
       "    VD01          (time, lev, lat, lon) float32 ...\n",
       "    VPHYSTND      (time, lev, lat, lon) float32 ...\n",
       "Attributes:\n",
       "    Conventions:  CF-1.0\n",
       "    source:       CAM\n",
       "    case:         AndKua_aqua_SPCAM3.0_sp_fbp32\n",
       "    title:        \n",
       "    logname:      tg847872\n",
       "    host:         \n",
       "    Version:      $Name:  $\n",
       "    revision_Id:  $Id: history.F90,v 1.26.2.38 2003/12/15 18:52:35 hender Exp $"
      ]
     },
     "execution_count": 4,
     "metadata": {},
     "output_type": "execute_result"
    }
   ],
   "source": [
    "aqua"
   ]
  },
  {
   "cell_type": "markdown",
   "metadata": {},
   "source": [
    "## Write to TFRecords file"
   ]
  },
  {
   "cell_type": "code",
   "execution_count": 189,
   "metadata": {},
   "outputs": [],
   "source": [
    "tfr_fn = '/local/S.Rasp/tmp/test.tfrecords'"
   ]
  },
  {
   "cell_type": "code",
   "execution_count": 190,
   "metadata": {},
   "outputs": [],
   "source": [
    "!rm /local/S.Rasp/tmp/test.tfrecords"
   ]
  },
  {
   "cell_type": "code",
   "execution_count": 191,
   "metadata": {},
   "outputs": [],
   "source": [
    "writer = tf.python_io.TFRecordWriter(tfr_fn)"
   ]
  },
  {
   "cell_type": "code",
   "execution_count": 192,
   "metadata": {},
   "outputs": [],
   "source": [
    "def _int64_feature(value):\n",
    "    return tf.train.Feature(int64_list=tf.train.Int64List(value=[value]))\n",
    "def _bytes_feature(value):\n",
    "    return tf.train.Feature(bytes_list=tf.train.BytesList(value=[value]))\n",
    "def _float_feature(value):\n",
    "    return tf.train.Feature(float_list=tf.train.FloatList(value=[value]))"
   ]
  },
  {
   "cell_type": "code",
   "execution_count": 193,
   "metadata": {},
   "outputs": [],
   "source": [
    "vars = [\n",
    "    'TAP', 'QAP', 'VAP', 'PS', 'SOLIN', 'SHFLX', 'LHFLX', \n",
    "    'TPHYSTND', 'PHQ', 'FSNT', 'FSNS', 'FLNT', 'FLNS', 'PRECT',\n",
    "    'time', 'lat', 'lon'\n",
    "]"
   ]
  },
  {
   "cell_type": "code",
   "execution_count": 194,
   "metadata": {},
   "outputs": [],
   "source": [
    "from tqdm import tqdm_notebook as tqdm"
   ]
  },
  {
   "cell_type": "code",
   "execution_count": 195,
   "metadata": {},
   "outputs": [],
   "source": [
    "import pdb"
   ]
  },
  {
   "cell_type": "code",
   "execution_count": 196,
   "metadata": {},
   "outputs": [],
   "source": [
    "def write_sample(it, ilat, ilon):\n",
    "    column = aqua.isel(time=it, lat=ilat, lon=ilon)\n",
    "    feature = {v:_bytes_feature(tf.compat.as_bytes(column[v].values.tostring())) for v in vars}\n",
    "    example = tf.train.Example(features=tf.train.Features(feature=feature))\n",
    "    writer.write(example.SerializeToString())"
   ]
  },
  {
   "cell_type": "code",
   "execution_count": 199,
   "metadata": {},
   "outputs": [],
   "source": [
    "%load_ext line_profiler"
   ]
  },
  {
   "cell_type": "code",
   "execution_count": 203,
   "metadata": {},
   "outputs": [
    {
     "name": "stdout",
     "output_type": "stream",
     "text": [
      "CPU times: user 348 ms, sys: 560 ms, total: 908 ms\n",
      "Wall time: 1.27 s\n"
     ]
    },
    {
     "data": {
      "text/plain": [
       "<xarray.Dataset>\n",
       "Dimensions:       (crm_x: 32, crm_y: 1, crm_z: 28, ilev: 31, isccp_prs: 7, isccp_prstau: 49, isccp_tau: 7, lat: 64, lev: 30, lon: 128, tbnd: 2, time: 48)\n",
       "Coordinates:\n",
       "  * lat           (lat) float64 -87.86 -85.1 -82.31 -79.53 ... 82.31 85.1 87.86\n",
       "  * lon           (lon) float64 0.0 2.812 5.625 8.438 ... 351.6 354.4 357.2\n",
       "  * crm_x         (crm_x) float64 0.0 4.0 8.0 12.0 ... 112.0 116.0 120.0 124.0\n",
       "  * crm_y         (crm_y) float64 0.0\n",
       "  * crm_z         (crm_z) float64 992.6 976.3 957.5 936.2 ... 38.27 24.61 14.36\n",
       "  * lev           (lev) float64 3.643 7.595 14.36 24.61 ... 957.5 976.3 992.6\n",
       "  * ilev          (ilev) float64 2.255 5.032 10.16 18.56 ... 967.5 985.1 1e+03\n",
       "  * isccp_prs     (isccp_prs) float64 90.0 245.0 375.0 500.0 620.0 740.0 900.0\n",
       "  * isccp_tau     (isccp_tau) float64 0.15 0.8 2.45 6.5 16.2 41.5 219.5\n",
       "  * isccp_prstau  (isccp_prstau) float64 90.0 90.0 90.0 ... 900.0 900.0 900.2\n",
       "  * time          (time) float64 1.0 1.021 1.042 1.062 ... 1.938 1.958 1.979\n",
       "Dimensions without coordinates: tbnd\n",
       "Data variables:\n",
       "    P0            float64 1e+05\n",
       "    time_bnds     (time, tbnd) float64 0.9792 1.0 1.0 ... 1.958 1.958 1.979\n",
       "    date_written  (time) |S8 b'04/07/18' b'04/07/18' ... b'04/07/18' b'04/07/18'\n",
       "    time_written  (time) |S8 b'10:11:12' b'10:11:20' ... b'10:17:25' b'10:17:33'\n",
       "    ntrm          int32 63\n",
       "    ntrn          int32 63\n",
       "    ntrk          int32 63\n",
       "    ndbase        int32 0\n",
       "    nsbase        int32 0\n",
       "    nbdate        int32 101\n",
       "    nbsec         int32 0\n",
       "    mdt           int32 1800\n",
       "    nlon          (lat) int32 128 128 128 128 128 128 ... 128 128 128 128 128\n",
       "    wnummax       (lat) int32 63 63 63 63 63 63 63 63 ... 63 63 63 63 63 63 63\n",
       "    hyai          (ilev) float64 0.002255 0.005032 0.01016 ... 0.003979 0.0 0.0\n",
       "    hybi          (ilev) float64 0.0 0.0 0.0 0.0 ... 0.9389 0.9636 0.9851 1.0\n",
       "    hyam          (lev) float64 0.003643 0.007595 0.01436 ... 0.001989 0.0\n",
       "    hybm          (lev) float64 0.0 0.0 0.0 0.0 ... 0.9251 0.9512 0.9743 0.9926\n",
       "    gw            (lat) float64 0.001783 0.004147 0.006504 ... 0.004147 0.001783\n",
       "    ndcur         (time) int32 1 1 1 1 1 1 1 1 1 1 1 1 ... 1 1 1 1 1 1 1 1 1 1 1\n",
       "    nscur         (time) int32 0 1800 3600 5400 7200 ... 79200 81000 82800 84600\n",
       "    date          (time) int32 102 102 102 102 102 102 ... 102 102 102 102 102\n",
       "    datesec       (time) int32 0 1800 3600 5400 7200 ... 79200 81000 82800 84600\n",
       "    nsteph        (time) int32 48 49 50 51 52 53 54 55 ... 89 90 91 92 93 94 95\n",
       "    DTV           (time, lev, lat, lon) float32 1.3905318e-14 ... 2.4985778e-07\n",
       "    DTVKE         (time, lev, lat, lon) float32 2.5026927e-11 ... 0.000449744\n",
       "    FLNS          (time, lat, lon) float32 80.60943 82.34495 ... 105.942\n",
       "    FLNT          (time, lat, lon) float32 230.2465 230.62044 ... 207.74263\n",
       "    FLUT          (time, lat, lon) float32 231.69994 232.07413 ... 207.91264\n",
       "    FSNS          (time, lat, lon) float32 280.59763 285.45316 ... 0.0 0.0\n",
       "    FSNT          (time, lat, lon) float32 370.91022 375.02243 ... 0.0 0.0\n",
       "    LHFLX         (time, lat, lon) float32 12.170551 12.242679 ... 21.57432\n",
       "    PHCLDICE      (time, lev, lat, lon) float32 0.0 0.0 ... -3.3839048e-16\n",
       "    PHCLDLIQ      (time, lev, lat, lon) float32 0.0 0.0 ... -2.1141242e-09\n",
       "    PHQ           (time, lev, lat, lon) float32 0.0 0.0 ... -6.6549153e-09\n",
       "    PRECC         (time, lat, lon) float32 0.0 0.0 0.0 ... 0.0 0.0 4.9404445e-09\n",
       "    PRECL         (time, lat, lon) float32 8.798631e-10 ... 1.8216513e-10\n",
       "    PRECSC        (time, lat, lon) float32 0.0 0.0 0.0 ... 0.0 0.0 3.726519e-09\n",
       "    PRECSL        (time, lat, lon) float32 5.8240984e-10 ... 1.3093253e-10\n",
       "    PRECSTEN      (time, lat, lon) float32 -2.6533962e-07 ... -8.527963e-08\n",
       "    PRECT         (time, lat, lon) float32 8.798631e-10 ... 5.1226094e-09\n",
       "    PRECTEND      (time, lat, lon) float32 -3.0262828e-07 ... -1.0936063e-07\n",
       "    PS            (time, lat, lon) float32 99653.445 99658.17 ... 94625.78\n",
       "    QAP           (time, lev, lat, lon) float32 1.9036613e-06 ... 0.002841596\n",
       "    QCAP          (time, lev, lat, lon) float32 0.0 0.0 0.0 0.0 ... 0.0 0.0 0.0\n",
       "    QIAP          (time, lev, lat, lon) float32 1.4515988e-09 ... 0.0\n",
       "    QRL           (time, lev, lat, lon) float32 -5.9188053e-05 ... -1.8342507e-05\n",
       "    QRS           (time, lev, lat, lon) float32 5.406999e-05 ... 0.0\n",
       "    SHFLX         (time, lat, lon) float32 5.0093536 4.620561 ... 9.374291\n",
       "    SOLIN         (time, lat, lon) float32 481.7399 481.642 481.6615 ... 0.0 0.0\n",
       "    SPDQ          (time, lev, lat, lon) float32 0.0 0.0 ... -6.721685e-08\n",
       "    SPDT          (time, lev, lat, lon) float32 0.0 0.0 ... -5.4475404e-05\n",
       "    T             (time, lev, lat, lon) float32 246.68907 ... 272.65314\n",
       "    TAP           (time, lev, lat, lon) float32 246.67896 246.68661 ... 272.6206\n",
       "    TPHYSTND      (time, lev, lat, lon) float32 -5.1180587e-06 ... -8.182259e-06\n",
       "    TS            (time, lat, lon) float32 275.16 275.16 ... 275.16 275.16\n",
       "    UAP           (time, lev, lat, lon) float32 -2.513687 ... -2.4831069\n",
       "    VAP           (time, lev, lat, lon) float32 -1.3107318 ... -1.099166\n",
       "    VD01          (time, lev, lat, lon) float32 0.0 0.0 0.0 0.0 ... 0.0 0.0 0.0\n",
       "    VPHYSTND      (time, lev, lat, lon) float32 -5.7614555e-11 ... 3.6908426e-05\n",
       "Attributes:\n",
       "    Conventions:  CF-1.0\n",
       "    source:       CAM\n",
       "    case:         AndKua_aqua_SPCAM3.0_sp_fbp32\n",
       "    title:        \n",
       "    logname:      tg847872\n",
       "    host:         \n",
       "    Version:      $Name:  $\n",
       "    revision_Id:  $Id: history.F90,v 1.26.2.38 2003/12/15 18:52:35 hender Exp $"
      ]
     },
     "execution_count": 203,
     "metadata": {},
     "output_type": "execute_result"
    }
   ],
   "source": [
    "%%time\n",
    "aqua.load()"
   ]
  },
  {
   "cell_type": "code",
   "execution_count": 208,
   "metadata": {
    "scrolled": true
   },
   "outputs": [],
   "source": [
    "def write_all():\n",
    "    for it, t in tqdm(enumerate(aqua.time[:1])):\n",
    "        for ilat, lat in enumerate(aqua.lat):\n",
    "            for ilon, lon in enumerate(aqua.lon):\n",
    "                #print(it, ilat, ilon)\n",
    "                write_sample(it, ilat, ilon)"
   ]
  },
  {
   "cell_type": "code",
   "execution_count": 209,
   "metadata": {},
   "outputs": [
    {
     "data": {
      "application/vnd.jupyter.widget-view+json": {
       "model_id": "34a3782bcecd43e0aab13ea32da16de9",
       "version_major": 2,
       "version_minor": 0
      },
      "text/plain": [
       "HBox(children=(IntProgress(value=1, bar_style='info', max=1), HTML(value='')))"
      ]
     },
     "metadata": {},
     "output_type": "display_data"
    }
   ],
   "source": [
    "%lprun -f write_sample write_all()"
   ]
  },
  {
   "cell_type": "code",
   "execution_count": 154,
   "metadata": {},
   "outputs": [],
   "source": [
    "writer.close()"
   ]
  },
  {
   "cell_type": "code",
   "execution_count": 155,
   "metadata": {},
   "outputs": [
    {
     "name": "stdout",
     "output_type": "stream",
     "text": [
      "-rw-r--r-- 1 S.Rasp ls-craig 7.3M Jan 22 16:51 /local/S.Rasp/tmp/test.tfrecords\r\n"
     ]
    }
   ],
   "source": [
    "!ls -lh $tfr_fn"
   ]
  },
  {
   "cell_type": "code",
   "execution_count": 156,
   "metadata": {},
   "outputs": [
    {
     "data": {
      "text/plain": [
       "dict_keys(['TAP', 'QAP', 'VAP', 'PS', 'SOLIN', 'SHFLX', 'LHFLX', 'TPHYSTND', 'PHQ', 'FSNT', 'FSNS', 'FLNT', 'FLNS', 'PRECT', 'time', 'lat', 'lon'])"
      ]
     },
     "execution_count": 156,
     "metadata": {},
     "output_type": "execute_result"
    }
   ],
   "source": [
    "feature.keys()"
   ]
  },
  {
   "cell_type": "code",
   "execution_count": 77,
   "metadata": {},
   "outputs": [],
   "source": [
    "feature = {\n",
    "    'TAP': _bytes_feature(tf.compat.as_bytes(one_sample.TAP.values.tostring())),\n",
    "    'QAP': _bytes_feature(tf.compat.as_bytes(one_sample.QAP.values.tostring()))\n",
    "}"
   ]
  },
  {
   "cell_type": "code",
   "execution_count": 78,
   "metadata": {},
   "outputs": [],
   "source": [
    "example = tf.train.Example(features=tf.train.Features(feature=feature))"
   ]
  },
  {
   "cell_type": "code",
   "execution_count": 79,
   "metadata": {
    "scrolled": false
   },
   "outputs": [
    {
     "data": {
      "text/plain": [
       "features {\n",
       "  feature {\n",
       "    key: \"QAP\"\n",
       "    value {\n",
       "      bytes_list {\n",
       "        value: \"]\\201\\3775d\\301\\3755\\370m\\3525R!\\3525t\\263\\3505$\\327\\3405\\357~\\3315.\\204\\3265\\007U\\3265Dr\\3265\\223\\352\\3315\\026\\321\\3675>\\213.6T\\340\\2226cv\\0317(\\335\\2117\\227\\222D8\\354\\242\\0329\\226\\\"\\3009!\\201/:\\027\\022P:~\\346]:\\253T\\246:\\321\\375\\333:1\\341\\020;\\023\\223\\';=\\2338;\\2712G;\\202\\274K;}\\355[;\"\n",
       "      }\n",
       "    }\n",
       "  }\n",
       "  feature {\n",
       "    key: \"TAP\"\n",
       "    value {\n",
       "      bytes_list {\n",
       "        value: \"\\327\\310vC\\225&hC\\2264YC\\203&nC0\\324gCZ\\177eC\\2328eC\\256%dC\\304\\376bCZ\\321aC \\230`C3\\022^Ca\\320[C\\337=YC\\274AXC\\'\\034ZCl\\255_C\\035\\375hC}OrC\\240\\277yC\\2241\\177Cz\\210\\201C\\343\\355\\202C+U\\204C\\007\\024\\205C\\204\\313\\205CF\\223\\206C\\364`\\207Cs\\030\\210C\\220\\305\\210C\"\n",
       "      }\n",
       "    }\n",
       "  }\n",
       "}"
      ]
     },
     "execution_count": 79,
     "metadata": {},
     "output_type": "execute_result"
    }
   ],
   "source": [
    "example"
   ]
  },
  {
   "cell_type": "code",
   "execution_count": 80,
   "metadata": {},
   "outputs": [],
   "source": [
    "for i in range(100): writer.write(example.SerializeToString())"
   ]
  },
  {
   "cell_type": "code",
   "execution_count": 81,
   "metadata": {},
   "outputs": [],
   "source": [
    "writer.close()"
   ]
  },
  {
   "cell_type": "markdown",
   "metadata": {},
   "source": [
    "## Read from TFRecords file"
   ]
  },
  {
   "cell_type": "code",
   "execution_count": 49,
   "metadata": {},
   "outputs": [],
   "source": [
    "tf.enable_eager_execution()"
   ]
  },
  {
   "cell_type": "code",
   "execution_count": 50,
   "metadata": {},
   "outputs": [
    {
     "data": {
      "text/plain": [
       "True"
      ]
     },
     "execution_count": 50,
     "metadata": {},
     "output_type": "execute_result"
    }
   ],
   "source": [
    "tf.executing_eagerly() "
   ]
  },
  {
   "cell_type": "code",
   "execution_count": 167,
   "metadata": {},
   "outputs": [],
   "source": [
    "tfr_ds = tf.data.TFRecordDataset(tfr_fn)"
   ]
  },
  {
   "cell_type": "code",
   "execution_count": 168,
   "metadata": {},
   "outputs": [
    {
     "data": {
      "text/plain": [
       "TensorShape([])"
      ]
     },
     "execution_count": 168,
     "metadata": {},
     "output_type": "execute_result"
    }
   ],
   "source": [
    "tfr_ds.output_shapes"
   ]
  },
  {
   "cell_type": "code",
   "execution_count": 169,
   "metadata": {},
   "outputs": [],
   "source": [
    "ds = tfr_ds.repeat(10)"
   ]
  },
  {
   "cell_type": "code",
   "execution_count": 170,
   "metadata": {},
   "outputs": [],
   "source": [
    "def _read_from_tfrecord(example_proto):\n",
    "    feature = {v: tf.FixedLenFeature([], tf.string) for v in vars}\n",
    "\n",
    "    features = tf.parse_example([example_proto], features=feature)\n",
    "\n",
    "    out = [tf.decode_raw(features[v], tf.float32) for v in vars]\n",
    "    return out"
   ]
  },
  {
   "cell_type": "code",
   "execution_count": 171,
   "metadata": {},
   "outputs": [],
   "source": [
    "ds = ds.map(_read_from_tfrecord)"
   ]
  },
  {
   "cell_type": "code",
   "execution_count": 172,
   "metadata": {},
   "outputs": [
    {
     "data": {
      "text/plain": [
       "<ShuffleDataset shapes: ((1, ?), (1, ?), (1, ?), (1, ?), (1, ?), (1, ?), (1, ?), (1, ?), (1, ?), (1, ?), (1, ?), (1, ?), (1, ?), (1, ?), (1, ?), (1, ?), (1, ?)), types: (tf.float32, tf.float32, tf.float32, tf.float32, tf.float32, tf.float32, tf.float32, tf.float32, tf.float32, tf.float32, tf.float32, tf.float32, tf.float32, tf.float32, tf.float32, tf.float32, tf.float32)>"
      ]
     },
     "execution_count": 172,
     "metadata": {},
     "output_type": "execute_result"
    }
   ],
   "source": [
    "ds.shuffle(1000)"
   ]
  },
  {
   "cell_type": "code",
   "execution_count": 174,
   "metadata": {},
   "outputs": [],
   "source": [
    "bs = ds.batch(10)"
   ]
  },
  {
   "cell_type": "code",
   "execution_count": 175,
   "metadata": {},
   "outputs": [],
   "source": [
    "x = next(iter(bs))"
   ]
  },
  {
   "cell_type": "code",
   "execution_count": 179,
   "metadata": {},
   "outputs": [
    {
     "data": {
      "text/plain": [
       "(17, 17)"
      ]
     },
     "execution_count": 179,
     "metadata": {},
     "output_type": "execute_result"
    }
   ],
   "source": [
    "len(x), len(vars)"
   ]
  },
  {
   "cell_type": "code",
   "execution_count": 181,
   "metadata": {},
   "outputs": [
    {
     "data": {
      "text/plain": [
       "['TAP',\n",
       " 'QAP',\n",
       " 'VAP',\n",
       " 'PS',\n",
       " 'SOLIN',\n",
       " 'SHFLX',\n",
       " 'LHFLX',\n",
       " 'TPHYSTND',\n",
       " 'PHQ',\n",
       " 'FSNT',\n",
       " 'FSNS',\n",
       " 'FLNT',\n",
       " 'FLNS',\n",
       " 'PRECT',\n",
       " 'time',\n",
       " 'lat',\n",
       " 'lon']"
      ]
     },
     "execution_count": 181,
     "metadata": {},
     "output_type": "execute_result"
    }
   ],
   "source": [
    "vars"
   ]
  },
  {
   "cell_type": "code",
   "execution_count": 187,
   "metadata": {},
   "outputs": [
    {
     "data": {
      "text/plain": [
       "array([[[246.67896, 231.9186 , 217.06544, 238.33183, 231.94052,\n",
       "         229.52925, 229.34657, 228.38527, 227.2268 , 226.18579,\n",
       "         225.0098 , 222.70345, 220.65616, 217.71031, 216.96951,\n",
       "         218.21031, 223.66469, 231.7498 , 240.48862, 248.43716,\n",
       "         254.49712, 258.68607, 261.989  , 264.54556, 265.72986,\n",
       "         267.48657, 269.2063 , 270.7589 , 272.1433 , 273.44547]],\n",
       "\n",
       "       [[246.68661, 231.91966, 217.0796 , 238.3068 , 231.94002,\n",
       "         229.52675, 229.33952, 228.3665 , 227.20094, 226.17729,\n",
       "         224.99347, 222.68636, 220.66388, 217.73404, 217.03984,\n",
       "         218.28249, 223.6974 , 231.72603, 240.45279, 248.42583,\n",
       "         254.49748, 258.67657, 261.9907 , 264.51477, 265.71988,\n",
       "         267.4587 , 269.19016, 270.7647 , 272.1693 , 273.461  ]],\n",
       "\n",
       "       [[246.694  , 231.9225 , 217.09715, 238.2795 , 231.9397 ,\n",
       "         229.52489, 229.33363, 228.34792, 227.17583, 226.16989,\n",
       "         224.9778 , 222.67046, 220.6744 , 217.76143, 217.11226,\n",
       "         218.35725, 223.7323 , 231.70132, 240.41278, 248.41107,\n",
       "         254.49512, 258.6684 , 261.99307, 264.49597, 265.6935 ,\n",
       "         267.47806, 269.20572, 270.78336, 272.16995, 273.4273 ]],\n",
       "\n",
       "       [[246.69984, 231.92616, 217.12215, 238.24585, 231.93887,\n",
       "         229.52325, 229.3281 , 228.32812, 227.15181, 226.16347,\n",
       "         224.96326, 222.65602, 220.68741, 217.7918 , 217.1862 ,\n",
       "         218.43428, 223.76947, 231.67496, 240.36736, 248.39566,\n",
       "         254.48924, 258.65692, 261.989  , 264.49832, 265.74554,\n",
       "         267.45062, 269.1859 , 270.77075, 272.18097, 273.43832]],\n",
       "\n",
       "       [[246.70567, 231.93205, 217.14606, 238.21373, 231.9384 ,\n",
       "         229.5225 , 229.32346, 228.30916, 227.12895, 226.1583 ,\n",
       "         224.94943, 222.64235, 220.70267, 217.82513, 217.26105,\n",
       "         218.5137 , 223.80972, 231.64374, 240.31937, 248.37704,\n",
       "         254.48096, 258.64648, 262.00476, 264.44928, 265.73114,\n",
       "         267.4725 , 269.18597, 270.7278 , 272.163  , 273.42886]],\n",
       "\n",
       "       [[246.71039, 231.93925, 217.15927, 238.18864, 231.93748,\n",
       "         229.52206, 229.31938, 228.28976, 227.10767, 226.15417,\n",
       "         224.9359 , 222.62958, 220.72011, 217.86122, 217.33687,\n",
       "         218.59482, 223.85124, 231.61711, 240.26715, 248.3579 ,\n",
       "         254.47162, 258.6354 , 262.0146 , 264.41318, 265.7375 ,\n",
       "         267.45734, 269.1835 , 270.73706, 272.1533 , 273.4262 ]],\n",
       "\n",
       "       [[246.71423, 231.94795, 217.17651, 238.16078, 231.93637,\n",
       "         229.52199, 229.31602, 228.27155, 227.08682, 226.1506 ,\n",
       "         224.92421, 222.61807, 220.739  , 217.90007, 217.41235,\n",
       "         218.67674, 223.89548, 231.58376, 240.21416, 248.3372 ,\n",
       "         254.45776, 258.62045, 262.02148, 264.42813, 265.7208 ,\n",
       "         267.45856, 269.1607 , 270.7586 , 272.1686 , 273.41534]],\n",
       "\n",
       "       [[246.71721, 231.95818, 217.19014, 238.13553, 231.93488,\n",
       "         229.52242, 229.31314, 228.25258, 227.06863, 226.14822,\n",
       "         224.91272, 222.60677, 220.75952, 217.94084, 217.48727,\n",
       "         218.7602 , 223.94241, 231.55489, 240.16127, 248.3143 ,\n",
       "         254.44226, 258.60223, 262.04077, 264.4246 , 265.77484,\n",
       "         267.46085, 269.18146, 270.76917, 272.17508, 273.37848]],\n",
       "\n",
       "       [[246.71936, 231.96986, 217.22035, 238.09898, 231.93327,\n",
       "         229.52322, 229.31047, 228.23465, 227.05252, 226.14648,\n",
       "         224.90134, 222.59618, 220.7815 , 217.98361, 217.56094,\n",
       "         218.84377, 223.98973, 231.52617, 240.10597, 248.29276,\n",
       "         254.421  , 258.5881 , 262.06693, 264.3953 , 265.773  ,\n",
       "         267.48724, 269.2054 , 270.76892, 272.17862, 273.4559 ]],\n",
       "\n",
       "       [[246.72101, 231.9832 , 217.20834, 238.09248, 231.9313 ,\n",
       "         229.52472, 229.30774, 228.21587, 227.03793, 226.14632,\n",
       "         224.89061, 222.5868 , 220.80449, 218.02757, 217.63208,\n",
       "         218.92674, 224.03943, 231.49611, 240.05351, 248.27008,\n",
       "         254.39818, 258.57004, 262.07852, 264.3808 , 265.85138,\n",
       "         267.45798, 269.18906, 270.75595, 272.17645, 273.41528]]],\n",
       "      dtype=float32)"
      ]
     },
     "execution_count": 187,
     "metadata": {},
     "output_type": "execute_result"
    }
   ],
   "source": [
    "x[-0].numpy()"
   ]
  },
  {
   "cell_type": "code",
   "execution_count": 137,
   "metadata": {},
   "outputs": [
    {
     "data": {
      "text/plain": [
       "(TensorShape([Dimension(10), Dimension(1), Dimension(30)]),\n",
       " TensorShape([Dimension(10), Dimension(1), Dimension(30)]))"
      ]
     },
     "execution_count": 137,
     "metadata": {},
     "output_type": "execute_result"
    }
   ],
   "source": [
    "x.shape, y.shape"
   ]
  },
  {
   "cell_type": "code",
   "execution_count": 93,
   "metadata": {},
   "outputs": [
    {
     "data": {
      "text/plain": [
       "TensorShape([Dimension(10), Dimension(1), Dimension(30)])"
      ]
     },
     "execution_count": 93,
     "metadata": {},
     "output_type": "execute_result"
    }
   ],
   "source": [
    "x.shape"
   ]
  },
  {
   "cell_type": "code",
   "execution_count": 67,
   "metadata": {},
   "outputs": [],
   "source": [
    "bs = tfr_ds.map(_read_from_tfrecord).repeat().batch(1)"
   ]
  },
  {
   "cell_type": "code",
   "execution_count": 69,
   "metadata": {},
   "outputs": [
    {
     "data": {
      "text/plain": [
       "<BatchDataset shapes: ((?, 1, ?), (?, 1, ?)), types: (tf.float32, tf.float32)>"
      ]
     },
     "execution_count": 69,
     "metadata": {},
     "output_type": "execute_result"
    }
   ],
   "source": [
    "bs"
   ]
  },
  {
   "cell_type": "markdown",
   "metadata": {},
   "source": [
    "## Quick conclusion\n",
    "\n",
    "So I guess it theoretically works. I am confident I would figure out the shuffling, dimensions. BUT: Converting one time slice takes around 100 seconds. The means converting an entire year would"
   ]
  }
 ],
 "metadata": {
  "kernelspec": {
   "display_name": "Python 3",
   "language": "python",
   "name": "python3"
  },
  "language_info": {
   "codemirror_mode": {
    "name": "ipython",
    "version": 3
   },
   "file_extension": ".py",
   "mimetype": "text/x-python",
   "name": "python",
   "nbconvert_exporter": "python",
   "pygments_lexer": "ipython3",
   "version": "3.6.7"
  },
  "toc": {
   "base_numbering": 1,
   "nav_menu": {},
   "number_sections": true,
   "sideBar": false,
   "skip_h1_title": true,
   "title_cell": "Table of Contents",
   "title_sidebar": "Contents",
   "toc_cell": false,
   "toc_position": {},
   "toc_section_display": true,
   "toc_window_display": false
  }
 },
 "nbformat": 4,
 "nbformat_minor": 2
}

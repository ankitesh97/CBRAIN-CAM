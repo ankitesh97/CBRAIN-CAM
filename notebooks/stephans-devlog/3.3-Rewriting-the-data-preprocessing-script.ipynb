{
 "cells": [
  {
   "cell_type": "markdown",
   "metadata": {},
   "source": [
    "# A new preprocessing script\n",
    "\n",
    "What does the preprocessing script have to do? Prepare the raw SPCAM data for use in the NN data generator.\n",
    "\n",
    "This entails:\n",
    "1. Computing derivative variables\n",
    "2. Flatten to sample dimension\n",
    "3. Crop levels and potentially lat/lon\n",
    "4. Shuffle training dataset\n",
    "\n",
    "\n",
    "The preprocessing script should be in the main directory or in a scripts directory. With all the functions part of the cbrain module.\n",
    "\n",
    "Then there is the question how to do the normalization. Like where do I compute the normalization A and b? \n",
    "\n",
    "And how do I do the config file and train valid?"
   ]
  },
  {
   "cell_type": "markdown",
   "metadata": {},
   "source": [
    "## Read the multi-file dataset: xarray vs plain netcdf\n",
    "\n",
    "I don't know how to do benchmarking properly because of the RAM issue."
   ]
  },
  {
   "cell_type": "code",
   "execution_count": 1,
   "metadata": {},
   "outputs": [],
   "source": [
    "DATADIR = '/local/S.Rasp/sp32fbp_andkua/'"
   ]
  },
  {
   "cell_type": "code",
   "execution_count": 2,
   "metadata": {},
   "outputs": [
    {
     "name": "stdout",
     "output_type": "stream",
     "text": [
      "/local/S.Rasp/sp32fbp_andkua//AndKua_aqua_SPCAM3.0_sp_fbp32.cam2.h1.0000-01-01-00000.nc\r\n",
      "/local/S.Rasp/sp32fbp_andkua//AndKua_aqua_SPCAM3.0_sp_fbp32.cam2.h1.0000-01-02-00000.nc\r\n",
      "/local/S.Rasp/sp32fbp_andkua//AndKua_aqua_SPCAM3.0_sp_fbp32.cam2.h1.0000-01-03-00000.nc\r\n",
      "/local/S.Rasp/sp32fbp_andkua//AndKua_aqua_SPCAM3.0_sp_fbp32.cam2.h1.0000-01-04-00000.nc\r\n",
      "/local/S.Rasp/sp32fbp_andkua//AndKua_aqua_SPCAM3.0_sp_fbp32.cam2.h1.0000-01-05-00000.nc\r\n",
      "/local/S.Rasp/sp32fbp_andkua//AndKua_aqua_SPCAM3.0_sp_fbp32.cam2.h1.0000-01-06-00000.nc\r\n",
      "/local/S.Rasp/sp32fbp_andkua//AndKua_aqua_SPCAM3.0_sp_fbp32.cam2.h1.0000-01-07-00000.nc\r\n",
      "/local/S.Rasp/sp32fbp_andkua//AndKua_aqua_SPCAM3.0_sp_fbp32.cam2.h1.0000-01-08-00000.nc\r\n",
      "/local/S.Rasp/sp32fbp_andkua//AndKua_aqua_SPCAM3.0_sp_fbp32.cam2.h1.0000-01-09-00000.nc\r\n",
      "/local/S.Rasp/sp32fbp_andkua//AndKua_aqua_SPCAM3.0_sp_fbp32.cam2.h1.0000-01-10-00000.nc\r\n",
      "ls: write error: Broken pipe\r\n"
     ]
    }
   ],
   "source": [
    "!ls $DATADIR/*h1* | head -10"
   ]
  },
  {
   "cell_type": "markdown",
   "metadata": {},
   "source": [
    "### xarray"
   ]
  },
  {
   "cell_type": "code",
   "execution_count": 3,
   "metadata": {},
   "outputs": [],
   "source": [
    "import xarray as xr"
   ]
  },
  {
   "cell_type": "code",
   "execution_count": 4,
   "metadata": {},
   "outputs": [
    {
     "name": "stdout",
     "output_type": "stream",
     "text": [
      "CPU times: user 1.35 s, sys: 140 ms, total: 1.49 s\n",
      "Wall time: 2.37 s\n"
     ]
    }
   ],
   "source": [
    "%%time\n",
    "ds = xr.open_mfdataset(\n",
    "    DATADIR + 'AndKua_aqua_SPCAM3.0_sp_fbp32.cam2.h1.0000-01-*-00000.nc',\n",
    "    decode_times=False,\n",
    "    concat_dim='time'\n",
    ")"
   ]
  },
  {
   "cell_type": "code",
   "execution_count": 5,
   "metadata": {},
   "outputs": [
    {
     "name": "stdout",
     "output_type": "stream",
     "text": [
      "CPU times: user 18.7 s, sys: 1.17 s, total: 19.8 s\n",
      "Wall time: 26.4 s\n"
     ]
    }
   ],
   "source": [
    "%%time\n",
    "ds = xr.open_mfdataset(\n",
    "    DATADIR + 'AndKua_aqua_SPCAM3.0_sp_fbp32.cam2.h1.0000-*-*-00000.nc',\n",
    "    decode_times=False,\n",
    "    concat_dim='time',\n",
    "    #parallel=True  # This makes the reading significantly slower...\n",
    ")"
   ]
  },
  {
   "cell_type": "markdown",
   "metadata": {},
   "source": [
    "I mean this is super fast, is this a fluke?"
   ]
  },
  {
   "cell_type": "code",
   "execution_count": 6,
   "metadata": {},
   "outputs": [
    {
     "data": {
      "text/plain": [
       "<xarray.DataArray 'time' (time: 17520)>\n",
       "array([0.000000e+00, 2.083333e-02, 4.166667e-02, ..., 3.649375e+02,\n",
       "       3.649583e+02, 3.649792e+02])\n",
       "Coordinates:\n",
       "  * time     (time) float64 0.0 0.02083 0.04167 0.0625 ... 364.9 365.0 365.0\n",
       "Attributes:\n",
       "    long_name:  time\n",
       "    units:      days since 0000-01-01 00:00:00\n",
       "    calendar:   noleap\n",
       "    bounds:     time_bnds"
      ]
     },
     "execution_count": 6,
     "metadata": {},
     "output_type": "execute_result"
    }
   ],
   "source": [
    "ds.time"
   ]
  },
  {
   "cell_type": "code",
   "execution_count": 7,
   "metadata": {},
   "outputs": [
    {
     "data": {
      "text/plain": [
       "<xarray.DataArray 'TAP' (time: 17520, lev: 30, lat: 64, lon: 128)>\n",
       "dask.array<shape=(17520, 30, 64, 128), dtype=float32, chunksize=(48, 30, 64, 128)>\n",
       "Coordinates:\n",
       "  * lat      (lat) float64 -87.86 -85.1 -82.31 -79.53 ... 79.53 82.31 85.1 87.86\n",
       "  * lon      (lon) float64 0.0 2.812 5.625 8.438 ... 348.8 351.6 354.4 357.2\n",
       "  * lev      (lev) float64 3.643 7.595 14.36 24.61 ... 936.2 957.5 976.3 992.6\n",
       "  * time     (time) float64 0.0 0.02083 0.04167 0.0625 ... 364.9 365.0 365.0\n",
       "Attributes:\n",
       "    units:      K\n",
       "    long_name:  T after physics"
      ]
     },
     "execution_count": 7,
     "metadata": {},
     "output_type": "execute_result"
    }
   ],
   "source": [
    "ds.TAP"
   ]
  },
  {
   "cell_type": "markdown",
   "metadata": {},
   "source": [
    "### Plain netcdf\n",
    "\n",
    "Don't even need to do that if it's that fast... Need to time that later!"
   ]
  },
  {
   "cell_type": "markdown",
   "metadata": {},
   "source": [
    "## Prepare feature and target datasets, actually make them one!"
   ]
  },
  {
   "cell_type": "code",
   "execution_count": 8,
   "metadata": {},
   "outputs": [],
   "source": [
    "input_vars = ['TBP', 'QBP', 'VBP', 'PS', 'SOLIN', 'SHFLX', 'LHFLX']\n",
    "output_vars = ['TPHYSTND', 'PHQ', 'FSNT', 'FSNS', 'FLNT', 'FLNS', 'PRECT']"
   ]
  },
  {
   "cell_type": "code",
   "execution_count": 9,
   "metadata": {},
   "outputs": [],
   "source": [
    "all_vars = input_vars + output_vars"
   ]
  },
  {
   "cell_type": "markdown",
   "metadata": {},
   "source": [
    "### Compute derivative variables and cut to correct time steps\n",
    "\n",
    "Only include what is currently used!"
   ]
  },
  {
   "cell_type": "markdown",
   "metadata": {},
   "source": [
    "### Compute time step"
   ]
  },
  {
   "cell_type": "code",
   "execution_count": 10,
   "metadata": {},
   "outputs": [],
   "source": [
    "dt = ds.time[:2].diff('time').values * 24 * 60 * 60"
   ]
  },
  {
   "cell_type": "code",
   "execution_count": 11,
   "metadata": {},
   "outputs": [
    {
     "data": {
      "text/plain": [
       "array([1800.])"
      ]
     },
     "execution_count": 11,
     "metadata": {},
     "output_type": "execute_result"
    }
   ],
   "source": [
    "dt"
   ]
  },
  {
   "cell_type": "code",
   "execution_count": 12,
   "metadata": {},
   "outputs": [
    {
     "data": {
      "text/plain": [
       "numpy.ndarray"
      ]
     },
     "execution_count": 12,
     "metadata": {},
     "output_type": "execute_result"
    }
   ],
   "source": [
    "type(dt)"
   ]
  },
  {
   "cell_type": "code",
   "execution_count": 13,
   "metadata": {},
   "outputs": [],
   "source": [
    "import numpy as np"
   ]
  },
  {
   "cell_type": "code",
   "execution_count": 14,
   "metadata": {},
   "outputs": [],
   "source": [
    "dt = dt.astype(np.float16)"
   ]
  },
  {
   "cell_type": "markdown",
   "metadata": {},
   "source": [
    "#### BP variables"
   ]
  },
  {
   "cell_type": "code",
   "execution_count": 15,
   "metadata": {},
   "outputs": [],
   "source": [
    "# Dictionary defining the physical tendency associated with each variable\n",
    "# Must be hardcoded!\n",
    "phy_dict = {\n",
    "    'TAP': 'TPHYSTND',\n",
    "    'QAP': 'PHQ',\n",
    "    'QCAP': 'PHCLDLIQ',\n",
    "    'QIAP': 'PHCLDICE',\n",
    "    'VAP': 'VPHYSTND',\n",
    "    'UAP': 'UPHYSTND'\n",
    "}"
   ]
  },
  {
   "cell_type": "code",
   "execution_count": 16,
   "metadata": {},
   "outputs": [],
   "source": [
    "def compute_bp(ds, var):\n",
    "    \"\"\"GCM state at beginning of time step before physics.\n",
    "    ?BP = ?AP - physical tendency * dt\n",
    "    \n",
    "    Args:\n",
    "        ds: entire xarray dataset\n",
    "        var: BP variable name\n",
    "\n",
    "    Returns:\n",
    "        bp: xarray dataarray containing just BP variable, with the first time step cut.\n",
    "    \"\"\"\n",
    "    base_var = var[:-2] + 'AP'\n",
    "    return (ds[base_var] - ds[phy_dict[base_var]] * dt)[1:]   # Not the first time step"
   ]
  },
  {
   "cell_type": "code",
   "execution_count": 17,
   "metadata": {},
   "outputs": [],
   "source": [
    "def compute_flx(ds, var):\n",
    "    \"\"\"Cuts last time step from flux variables\"\"\"\n",
    "    return ds[var][:-1]"
   ]
  },
  {
   "cell_type": "code",
   "execution_count": 18,
   "metadata": {},
   "outputs": [
    {
     "name": "stdout",
     "output_type": "stream",
     "text": [
      "CPU times: user 56 ms, sys: 8 ms, total: 64 ms\n",
      "Wall time: 103 ms\n"
     ]
    }
   ],
   "source": [
    "%time TBP = compute_bp(ds, 'TBP')"
   ]
  },
  {
   "cell_type": "code",
   "execution_count": 19,
   "metadata": {},
   "outputs": [
    {
     "name": "stdout",
     "output_type": "stream",
     "text": [
      "CPU times: user 4 ms, sys: 0 ns, total: 4 ms\n",
      "Wall time: 6.34 ms\n"
     ]
    }
   ],
   "source": [
    "%time SHFLX = compute_flx(ds, 'SHFLX')"
   ]
  },
  {
   "cell_type": "code",
   "execution_count": 20,
   "metadata": {},
   "outputs": [
    {
     "data": {
      "text/plain": [
       "<xarray.DataArray (time: 17519, lev: 30, lat: 64, lon: 128)>\n",
       "dask.array<shape=(17519, 30, 64, 128), dtype=float32, chunksize=(47, 30, 64, 128)>\n",
       "Coordinates:\n",
       "  * lat      (lat) float64 -87.86 -85.1 -82.31 -79.53 ... 79.53 82.31 85.1 87.86\n",
       "  * lon      (lon) float64 0.0 2.812 5.625 8.438 ... 348.8 351.6 354.4 357.2\n",
       "  * lev      (lev) float64 3.643 7.595 14.36 24.61 ... 936.2 957.5 976.3 992.6\n",
       "  * time     (time) float64 0.02083 0.04167 0.0625 0.08333 ... 364.9 365.0 365.0"
      ]
     },
     "execution_count": 20,
     "metadata": {},
     "output_type": "execute_result"
    }
   ],
   "source": [
    "TBP"
   ]
  },
  {
   "cell_type": "code",
   "execution_count": 21,
   "metadata": {},
   "outputs": [
    {
     "data": {
      "text/plain": [
       "<xarray.DataArray 'SHFLX' (time: 17519, lat: 64, lon: 128)>\n",
       "dask.array<shape=(17519, 64, 128), dtype=float32, chunksize=(48, 64, 128)>\n",
       "Coordinates:\n",
       "  * lat      (lat) float64 -87.86 -85.1 -82.31 -79.53 ... 79.53 82.31 85.1 87.86\n",
       "  * lon      (lon) float64 0.0 2.812 5.625 8.438 ... 348.8 351.6 354.4 357.2\n",
       "  * time     (time) float64 0.0 0.02083 0.04167 0.0625 ... 364.9 364.9 365.0\n",
       "Attributes:\n",
       "    units:        W/m2\n",
       "    long_name:    Surface sensible heat flux\n",
       "    cell_method:  time: mean"
      ]
     },
     "execution_count": 21,
     "metadata": {},
     "output_type": "execute_result"
    }
   ],
   "source": [
    "SHFLX"
   ]
  },
  {
   "cell_type": "code",
   "execution_count": 39,
   "metadata": {},
   "outputs": [
    {
     "name": "stdout",
     "output_type": "stream",
     "text": [
      "CPU times: user 54.9 s, sys: 10.1 s, total: 1min 4s\n",
      "Wall time: 1min 4s\n"
     ]
    }
   ],
   "source": [
    "%time TBP_stack = TBP.stack(sample=('time', 'lat', 'lon'))   # Ok, this fills up my memory... WTH?"
   ]
  },
  {
   "cell_type": "code",
   "execution_count": 40,
   "metadata": {},
   "outputs": [
    {
     "data": {
      "text/plain": [
       "<xarray.DataArray (lev: 30, sample: 143515648)>\n",
       "dask.array<shape=(30, 143515648), dtype=float64, chunksize=(30, 385024)>\n",
       "Coordinates:\n",
       "  * lev      (lev) float64 3.643 7.595 14.36 24.61 ... 936.2 957.5 976.3 992.6\n",
       "  * sample   (sample) MultiIndex\n",
       "  - time     (sample) float64 0.02083 0.02083 0.02083 ... 0.02083 0.02083\n",
       "  - lat      (sample) float64 -87.86 -87.86 -87.86 ... -87.86 -87.86 -87.86\n",
       "  - lon      (sample) float64 0.0 2.812 5.625 8.438 ... 73.12 75.94 78.75 81.56"
      ]
     },
     "execution_count": 40,
     "metadata": {},
     "output_type": "execute_result"
    }
   ],
   "source": [
    "TBP_stack"
   ]
  },
  {
   "cell_type": "code",
   "execution_count": 22,
   "metadata": {},
   "outputs": [
    {
     "name": "stdout",
     "output_type": "stream",
     "text": [
      "CPU times: user 1min 5s, sys: 9.92 s, total: 1min 15s\n",
      "Wall time: 1min 15s\n"
     ]
    }
   ],
   "source": [
    "%time SHFLX_stack = SHFLX.stack(sample=('time', 'lat', 'lon'))   # BAM 20G. WTF!?"
   ]
  },
  {
   "cell_type": "code",
   "execution_count": 23,
   "metadata": {},
   "outputs": [
    {
     "data": {
      "text/plain": [
       "<xarray.DataArray 'SHFLX' (sample: 143515648)>\n",
       "dask.array<shape=(143515648,), dtype=float32, chunksize=(393216,)>\n",
       "Coordinates:\n",
       "  * sample   (sample) MultiIndex\n",
       "  - time     (sample) float64 0.0 0.0 0.0 0.0 0.0 0.0 ... 0.0 0.0 0.0 0.0 0.0\n",
       "  - lat      (sample) float64 -87.86 -87.86 -87.86 ... -87.86 -87.86 -87.86\n",
       "  - lon      (sample) float64 0.0 2.812 5.625 8.438 ... 73.12 75.94 78.75 81.56\n",
       "Attributes:\n",
       "    units:        W/m2\n",
       "    long_name:    Surface sensible heat flux\n",
       "    cell_method:  time: mean"
      ]
     },
     "execution_count": 23,
     "metadata": {},
     "output_type": "execute_result"
    }
   ],
   "source": [
    "SHFLX_stack"
   ]
  },
  {
   "cell_type": "code",
   "execution_count": 29,
   "metadata": {},
   "outputs": [
    {
     "data": {
      "text/plain": [
       "30"
      ]
     },
     "execution_count": 29,
     "metadata": {},
     "output_type": "execute_result"
    }
   ],
   "source": [
    "TBP.lev.size"
   ]
  },
  {
   "cell_type": "code",
   "execution_count": null,
   "metadata": {},
   "outputs": [],
   "source": []
  }
 ],
 "metadata": {
  "kernelspec": {
   "display_name": "Python 3",
   "language": "python",
   "name": "python3"
  },
  "language_info": {
   "codemirror_mode": {
    "name": "ipython",
    "version": 3
   },
   "file_extension": ".py",
   "mimetype": "text/x-python",
   "name": "python",
   "nbconvert_exporter": "python",
   "pygments_lexer": "ipython3",
   "version": "3.6.8"
  },
  "toc": {
   "base_numbering": 1,
   "nav_menu": {},
   "number_sections": true,
   "sideBar": false,
   "skip_h1_title": true,
   "title_cell": "Table of Contents",
   "title_sidebar": "Contents",
   "toc_cell": false,
   "toc_position": {},
   "toc_section_display": true,
   "toc_window_display": false
  }
 },
 "nbformat": 4,
 "nbformat_minor": 2
}

{
 "cells": [
  {
   "cell_type": "markdown",
   "metadata": {},
   "source": [
    "## Preprocess with all variables necessary"
   ]
  },
  {
   "cell_type": "code",
   "execution_count": 2,
   "metadata": {},
   "outputs": [
    {
     "name": "stderr",
     "output_type": "stream",
     "text": [
      "Using TensorFlow backend.\n",
      "/home/s/S.Rasp/miniconda3/lib/python3.6/importlib/_bootstrap.py:219: RuntimeWarning: compiletime version 3.5 of module 'tensorflow.python.framework.fast_tensor_util' does not match runtime version 3.6\n",
      "  return f(*args, **kwds)\n"
     ]
    }
   ],
   "source": [
    "from cbrain.imports import *\n",
    "from cbrain.data_generator import *\n",
    "from cbrain.utils import limit_mem\n",
    "# Otherwise tensorflow will use ALL your GPU RAM for no reason\n",
    "limit_mem()"
   ]
  },
  {
   "cell_type": "code",
   "execution_count": 1,
   "metadata": {},
   "outputs": [],
   "source": [
    "!rm /local/S.Rasp/preprocessed_data/32_col_mp_3d*"
   ]
  },
  {
   "cell_type": "code",
   "execution_count": 3,
   "metadata": {},
   "outputs": [
    {
     "name": "stdout",
     "output_type": "stream",
     "text": [
      "/home/s/S.Rasp/repositories/CBRAIN-CAM\n"
     ]
    }
   ],
   "source": [
    "%cd ../../"
   ]
  },
  {
   "cell_type": "code",
   "execution_count": 10,
   "metadata": {},
   "outputs": [
    {
     "name": "stdout",
     "output_type": "stream",
     "text": [
      "Time checkpoint reading data: 0.46 s\n",
      "Number of time steps: 576\n",
      "Cut time steps: [ 47  95 143 191 239 287 335 383 431 479 527]\n",
      "Cut time steps: [ 47  95 143 191 239 287 335 383 431 479 527]\n",
      "Time checkpoint create datasets: 0.57 s\n",
      "Time checkpoint reshape and rechunk: 0.75 s\n",
      "Compute means and stds\n",
      "Saving normalization file: /local/S.Rasp/preprocessed_data/32_col_mp_3d_train_norm.nc\n",
      "Time checkpoint normalization arrays: 51.32 s\n",
      "Time checkpoint rechunk and ds: 51.55 s\n",
      "Save features: /local/S.Rasp/preprocessed_data/32_col_mp_3d_train_features.nc\n",
      "Save targets: /local/S.Rasp/preprocessed_data/32_col_mp_3d_train_targets.nc\n",
      "Total time: 86.75 s\n"
     ]
    }
   ],
   "source": [
    "!python cbrain/preprocess_aqua.py \\\n",
    "--config pp_config/32col_mp_ref.yml \\\n",
    "--aqua_names '*.h1.0000-*-01-*' \\\n",
    "--out_pref 32_col_mp_3d_train"
   ]
  },
  {
   "cell_type": "code",
   "execution_count": 11,
   "metadata": {},
   "outputs": [],
   "source": [
    "DATADIR = '/local/S.Rasp/preprocessed_data/'"
   ]
  },
  {
   "cell_type": "code",
   "execution_count": 12,
   "metadata": {},
   "outputs": [
    {
     "name": "stdout",
     "output_type": "stream",
     "text": [
      "32_col_engy_ess_1y_train_features.nc\r\n",
      "32_col_engy_ess_1y_train_shuffle_features.nc\r\n",
      "32_col_engy_ess_1y_train_shuffle_targets.nc\r\n",
      "32_col_engy_ess_1y_train_targets.nc\r\n",
      "32_col_engy_ess_3d_train_features.nc\r\n",
      "32_col_engy_ess_3d_train_norm.nc\r\n",
      "32_col_engy_ess_3d_train_shuffle_features.nc\r\n",
      "32_col_engy_ess_3d_train_shuffle_targets.nc\r\n",
      "32_col_engy_ess_3d_train_targets.nc\r\n",
      "32_col_engy_ess_3d_valid_features.nc\r\n",
      "32_col_engy_ess_3d_valid_targets.nc\r\n",
      "32_col_mp_3d_train_features.nc\r\n",
      "32_col_mp_3d_train_norm.nc\r\n",
      "32_col_mp_3d_train_targets.nc\r\n",
      "fbp_engy_ess_ref_train_fullyear_shuffle_features.nc\r\n",
      "fbp_engy_ess_ref_train_fullyear_shuffle_targets.nc\r\n",
      "fbp_engy_ess_ref_train_sample1_norm_big_fluxes2.nc\r\n",
      "fbp_engy_ess_ref_train_sample1_norm_big_fluxes.nc\r\n",
      "fbp_engy_ess_ref_train_sample1_norm.nc\r\n",
      "fbp_engy_ess_ref_train_sample1_norm_small_fluxes2.nc\r\n",
      "fbp_engy_ess_ref_train_sample1_norm_small_fluxes.nc\r\n",
      "fbp_engy_ess_train_fullyear_norm.nc\r\n",
      "fbp_engy_ess_train_sample1_norm.nc\r\n",
      "fbp_engy_ess_valid_fullyear_features.nc\r\n",
      "fbp_engy_ess_valid_fullyear_targets.nc\r\n",
      "fbp_engy_ess_valid_sample1_features.nc\r\n",
      "fbp_engy_ess_valid_sample1_targets.nc\r\n",
      "fullphy_fbp_train_fullyear_norm.nc\r\n"
     ]
    }
   ],
   "source": [
    "!ls $DATADIR"
   ]
  },
  {
   "cell_type": "markdown",
   "metadata": {},
   "source": [
    "TODO: Shuffle and validation"
   ]
  },
  {
   "cell_type": "markdown",
   "metadata": {},
   "source": [
    "## Create data generator and produce data sample\n",
    "\n",
    "```\n",
    "P = P0 * hyai + PS * hybi\n",
    "```\n",
    "This is to compute the pressure levels for one column. The coefficients hyai and hybi are constatnt, onle PS is variable."
   ]
  },
  {
   "cell_type": "markdown",
   "metadata": {},
   "source": [
    "### How to change the normalization of the outputs."
   ]
  },
  {
   "cell_type": "code",
   "execution_count": 13,
   "metadata": {},
   "outputs": [],
   "source": [
    "import xarray as xr"
   ]
  },
  {
   "cell_type": "code",
   "execution_count": 14,
   "metadata": {},
   "outputs": [],
   "source": [
    "ds = xr.open_dataset(DATADIR + '32_col_mp_3d_train_norm.nc')"
   ]
  },
  {
   "cell_type": "code",
   "execution_count": 15,
   "metadata": {},
   "outputs": [
    {
     "data": {
      "text/plain": [
       "<xarray.Dataset>\n",
       "Dimensions:              (feature_lev: 154, target_lev: 125)\n",
       "Coordinates:\n",
       "  * feature_lev          (feature_lev) int64 0 1 2 3 4 5 6 7 8 9 10 11 12 13 ...\n",
       "  * target_lev           (target_lev) int64 0 1 2 3 4 5 6 7 8 9 10 11 12 13 ...\n",
       "Data variables:\n",
       "    feature_means        (feature_lev) float32 ...\n",
       "    feature_stds         (feature_lev) float32 ...\n",
       "    feature_mins         (feature_lev) float32 ...\n",
       "    feature_maxs         (feature_lev) float32 ...\n",
       "    target_means         (target_lev) float32 ...\n",
       "    target_stds          (target_lev) float32 ...\n",
       "    target_mins          (target_lev) float32 ...\n",
       "    target_maxs          (target_lev) float32 ...\n",
       "    feature_names        (feature_lev) object ...\n",
       "    target_names         (target_lev) object ...\n",
       "    feature_stds_by_var  (feature_lev) float32 ...\n",
       "    target_conv          (target_lev) float32 ...\n",
       "Attributes:\n",
       "    log:      \\n    Time: 2019-01-15T14:08:44\\n\\n    Executed command:\\n\\n   ..."
      ]
     },
     "execution_count": 15,
     "metadata": {},
     "output_type": "execute_result"
    }
   ],
   "source": [
    "ds"
   ]
  },
  {
   "cell_type": "code",
   "execution_count": 16,
   "metadata": {},
   "outputs": [],
   "source": [
    "#ds['target_conv'] = some_operation_on_target_conv()  \n",
    "# Some vector with length 125"
   ]
  },
  {
   "cell_type": "code",
   "execution_count": 17,
   "metadata": {},
   "outputs": [
    {
     "data": {
      "text/plain": [
       "<xarray.DataArray 'target_names' (target_lev: 5)>\n",
       "array(['PHQ_lev00', 'PHQ_lev01', 'PHQ_lev02', 'PHQ_lev03', 'PHQ_lev04'],\n",
       "      dtype=object)\n",
       "Coordinates:\n",
       "  * target_lev  (target_lev) int64 0 1 2 3 4"
      ]
     },
     "execution_count": 17,
     "metadata": {},
     "output_type": "execute_result"
    }
   ],
   "source": [
    "ds.target_names[:5]"
   ]
  },
  {
   "cell_type": "code",
   "execution_count": 18,
   "metadata": {},
   "outputs": [],
   "source": [
    "ds.close()"
   ]
  },
  {
   "cell_type": "markdown",
   "metadata": {},
   "source": [
    "### Create data generator"
   ]
  },
  {
   "cell_type": "code",
   "execution_count": 19,
   "metadata": {},
   "outputs": [
    {
     "name": "stdout",
     "output_type": "stream",
     "text": [
      "Generator will have 4620288 samples in 9024 batches\n",
      "Features have shape 154; targets have shape 125\n"
     ]
    }
   ],
   "source": [
    "train_gen_obj = DataGenerator(\n",
    "    data_dir=DATADIR, \n",
    "    feature_fn='32_col_mp_3d_train_features.nc',\n",
    "    target_fn='32_col_mp_3d_train_targets.nc',\n",
    "    batch_size=512,\n",
    "    norm_fn='32_col_mp_3d_train_norm.nc',\n",
    "    fsub='feature_means',   # Subtracct the mean\n",
    "    fdiv='feature_stds_by_var',    # Then divide by Std\n",
    "    tmult='target_conv',    # For targets/output: use values from preprocess_aqua.\n",
    "    shuffle=True,\n",
    ")"
   ]
  },
  {
   "cell_type": "code",
   "execution_count": 20,
   "metadata": {},
   "outputs": [],
   "source": [
    "gen = train_gen_obj.return_generator()"
   ]
  },
  {
   "cell_type": "code",
   "execution_count": 21,
   "metadata": {},
   "outputs": [],
   "source": [
    "x, y = next(gen)"
   ]
  },
  {
   "cell_type": "code",
   "execution_count": 22,
   "metadata": {},
   "outputs": [
    {
     "data": {
      "text/plain": [
       "((512, 154), (512, 125))"
      ]
     },
     "execution_count": 22,
     "metadata": {},
     "output_type": "execute_result"
    }
   ],
   "source": [
    "x.shape, y.shape"
   ]
  },
  {
   "cell_type": "markdown",
   "metadata": {},
   "source": [
    "## Simple neural network"
   ]
  },
  {
   "cell_type": "code",
   "execution_count": 23,
   "metadata": {},
   "outputs": [],
   "source": [
    "from keras.layers import *\n",
    "from keras.models import *"
   ]
  },
  {
   "cell_type": "code",
   "execution_count": 24,
   "metadata": {},
   "outputs": [],
   "source": [
    "inp = Input(shape=(154,))\n",
    "act = Dense(124, activation='relu')(inp)\n",
    "out = Dense(125)(act)\n",
    "model1 = Model(inputs=inp, outputs=out)"
   ]
  },
  {
   "cell_type": "code",
   "execution_count": 25,
   "metadata": {},
   "outputs": [
    {
     "name": "stdout",
     "output_type": "stream",
     "text": [
      "_________________________________________________________________\n",
      "Layer (type)                 Output Shape              Param #   \n",
      "=================================================================\n",
      "input_1 (InputLayer)         (None, 154)               0         \n",
      "_________________________________________________________________\n",
      "dense_1 (Dense)              (None, 124)               19220     \n",
      "_________________________________________________________________\n",
      "dense_2 (Dense)              (None, 125)               15625     \n",
      "=================================================================\n",
      "Total params: 34,845\n",
      "Trainable params: 34,845\n",
      "Non-trainable params: 0\n",
      "_________________________________________________________________\n"
     ]
    }
   ],
   "source": [
    "model1.summary()"
   ]
  },
  {
   "cell_type": "code",
   "execution_count": 26,
   "metadata": {},
   "outputs": [],
   "source": [
    "model1.compile('adam', loss='mse')"
   ]
  },
  {
   "cell_type": "code",
   "execution_count": null,
   "metadata": {},
   "outputs": [],
   "source": [
    "model1.fit_generator(gen, train_gen_obj.n_batches)"
   ]
  },
  {
   "cell_type": "code",
   "execution_count": null,
   "metadata": {},
   "outputs": [],
   "source": [
    "preds = model1.predict_on_batch(x)"
   ]
  },
  {
   "cell_type": "code",
   "execution_count": null,
   "metadata": {},
   "outputs": [],
   "source": [
    "preds.shape"
   ]
  },
  {
   "cell_type": "code",
   "execution_count": null,
   "metadata": {},
   "outputs": [],
   "source": [
    "plt.plot(preds[0])\n",
    "plt.plot(y[0])"
   ]
  },
  {
   "cell_type": "markdown",
   "metadata": {},
   "source": [
    "## Implement energy conservation layer"
   ]
  },
  {
   "cell_type": "markdown",
   "metadata": {},
   "source": [
    "### softplus on q"
   ]
  },
  {
   "cell_type": "code",
   "execution_count": 27,
   "metadata": {},
   "outputs": [],
   "source": [
    "import keras.backend as K"
   ]
  },
  {
   "cell_type": "code",
   "execution_count": 28,
   "metadata": {},
   "outputs": [],
   "source": [
    "class PhysicalConstraintLayer(Layer):\n",
    "    \n",
    "    def __init__(self, **kwargs):\n",
    "        super().__init__(**kwargs)\n",
    "        \n",
    "    def build(self, input_shape):\n",
    "        super().build(input_shape)  # Be sure to call this somewhere!\n",
    "        \n",
    "    def call(self, x):\n",
    "        # x will be [n_samples, 125] with \n",
    "        # [QBP, QCBP, QIBP, TPHYSTND, FSNT, FSNS, FLNT, FLNS, PRECT]\n",
    "        x_q = x[:, :90]\n",
    "        x_remain = x[:, 90:]\n",
    "        \n",
    "        # softplus on x_q\n",
    "        x_q = K.softplus(x_q)\n",
    "        \n",
    "        # Concat them back together\n",
    "        out = K.concatenate([x_q, x_remain])\n",
    "        \n",
    "        return out\n",
    "    \n",
    "    def compute_output_shape(self, input_shape):\n",
    "        return input_shape"
   ]
  },
  {
   "cell_type": "code",
   "execution_count": 29,
   "metadata": {},
   "outputs": [],
   "source": [
    "m = Sequential(\n",
    "    [PhysicalConstraintLayer(input_shape=(125,))]\n",
    ")"
   ]
  },
  {
   "cell_type": "code",
   "execution_count": 30,
   "metadata": {},
   "outputs": [],
   "source": [
    "m.compile('adam', 'mse')"
   ]
  },
  {
   "cell_type": "code",
   "execution_count": 31,
   "metadata": {},
   "outputs": [
    {
     "name": "stdout",
     "output_type": "stream",
     "text": [
      "_________________________________________________________________\n",
      "Layer (type)                 Output Shape              Param #   \n",
      "=================================================================\n",
      "physical_constraint_layer_1  (None, 125)               0         \n",
      "=================================================================\n",
      "Total params: 0\n",
      "Trainable params: 0\n",
      "Non-trainable params: 0\n",
      "_________________________________________________________________\n"
     ]
    }
   ],
   "source": [
    "m.summary()"
   ]
  },
  {
   "cell_type": "code",
   "execution_count": 32,
   "metadata": {},
   "outputs": [],
   "source": [
    "x_rand = np.random.rand(1, 125)-0.5"
   ]
  },
  {
   "cell_type": "code",
   "execution_count": 33,
   "metadata": {},
   "outputs": [
    {
     "data": {
      "text/plain": [
       "[<matplotlib.lines.Line2D at 0x7fe3185a1d30>]"
      ]
     },
     "execution_count": 33,
     "metadata": {},
     "output_type": "execute_result"
    },
    {
     "data": {
      "image/png": "[encoded data removed]",
      "text/plain": [
       "<Figure size 432x288 with 1 Axes>"
      ]
     },
     "metadata": {},
     "output_type": "display_data"
    }
   ],
   "source": [
    "plt.plot(x_rand[0])"
   ]
  },
  {
   "cell_type": "code",
   "execution_count": 34,
   "metadata": {},
   "outputs": [],
   "source": [
    "preds = m.predict_on_batch(x_rand)"
   ]
  },
  {
   "cell_type": "code",
   "execution_count": 35,
   "metadata": {},
   "outputs": [
    {
     "data": {
      "text/plain": [
       "[<matplotlib.lines.Line2D at 0x7fe31848b630>]"
      ]
     },
     "execution_count": 35,
     "metadata": {},
     "output_type": "execute_result"
    },
    {
     "data": {
      "image/png": "[encoded data removed]",
      "text/plain": [
       "<Figure size 432x288 with 1 Axes>"
      ]
     },
     "metadata": {},
     "output_type": "display_data"
    }
   ],
   "source": [
    "plt.plot(preds[0])"
   ]
  },
  {
   "cell_type": "markdown",
   "metadata": {},
   "source": [
    "### convert q to d_t"
   ]
  },
  {
   "cell_type": "code",
   "execution_count": 43,
   "metadata": {},
   "outputs": [],
   "source": [
    "ds = xr.open_dataset(DATADIR + '32_col_mp_3d_train_norm.nc')"
   ]
  },
  {
   "cell_type": "code",
   "execution_count": 46,
   "metadata": {},
   "outputs": [],
   "source": [
    "fsub = ds.feature_means.values\n",
    "fdiv = ds.feature_stds_by_var.values"
   ]
  },
  {
   "cell_type": "code",
   "execution_count": 47,
   "metadata": {},
   "outputs": [],
   "source": [
    "ds.close()"
   ]
  },
  {
   "cell_type": "code",
   "execution_count": 110,
   "metadata": {},
   "outputs": [],
   "source": [
    "class PhysicalConstraintLayer(Layer):\n",
    "    \n",
    "    def __init__(self, fsub, fdiv, dt=30*60, **kwargs):\n",
    "        self.fsub = fsub \n",
    "        self.fdiv = fdiv\n",
    "        self.dt = dt\n",
    "        super().__init__(**kwargs)\n",
    "        \n",
    "    def build(self, input_shape):\n",
    "        super().build(input_shape)  # Be sure to call this somewhere!\n",
    "        \n",
    "    def call(self, arrs):\n",
    "        # arrs (for arrays) is a list with \n",
    "        # [inputs and the output of the previous layer]\n",
    "        # inputs will be [n_sample, 154] with\n",
    "        # [QBP, QCBP, QIBP, TBP, VBP, PS, SOLIN, SHFLX, LHFLX]\n",
    "        # outputs will be [n_samples, 125] with \n",
    "        # [QAP, QCAP, QIAP, TPHYSTND, FSNT, FSNS, FLNT, FLNS, PRECT]\n",
    "        \n",
    "        # Split\n",
    "        inp, act = arrs\n",
    "        \n",
    "        # SOFTPLUS PART\n",
    "        qap = act[:, :90]\n",
    "        remain = act[:, 90:]\n",
    "        # softplus on x_q\n",
    "        qap = K.softplus(qap)\n",
    "        \n",
    "        # UNNORMALIZE INP\n",
    "        inp = inp * self.fdiv + self.fsub\n",
    "        \n",
    "        # COMPUTE TEMPORAL DIFFERENCES\n",
    "        qbp = inp[:, :90]\n",
    "        L_V = 2.501e6 ; L_I = 3.337e5; L_S = L_V + L_I\n",
    "        diff = (qap - qbp) / self.dt#  * L_S\n",
    "        # Not so sure what this should be...\n",
    "        \n",
    "        # Concat out\n",
    "        out = K.concatenate([diff, remain])\n",
    "        \n",
    "        return out\n",
    "    \n",
    "    def compute_output_shape(self, input_shape):\n",
    "        return input_shape[1]"
   ]
  },
  {
   "cell_type": "code",
   "execution_count": 111,
   "metadata": {},
   "outputs": [],
   "source": [
    "inp = Input(shape=(154,))\n",
    "act = Dense(256, activation='relu')(inp)\n",
    "for i in range(4):\n",
    "    act = Dense(256, activation='relu')(act)\n",
    "act = Dense(125, activation='relu')(act)\n",
    "out = PhysicalConstraintLayer(\n",
    "    input_shape=(125,), fsub=fsub, fdiv=fdiv\n",
    ")([inp, act])\n",
    "m = Model(inputs=inp, outputs=out)"
   ]
  },
  {
   "cell_type": "code",
   "execution_count": 112,
   "metadata": {},
   "outputs": [],
   "source": [
    "m.compile('adam', 'mse')"
   ]
  },
  {
   "cell_type": "code",
   "execution_count": 118,
   "metadata": {},
   "outputs": [
    {
     "name": "stdout",
     "output_type": "stream",
     "text": [
      "__________________________________________________________________________________________________\n",
      "Layer (type)                    Output Shape         Param #     Connected to                     \n",
      "==================================================================================================\n",
      "input_13 (InputLayer)           (None, 154)          0                                            \n",
      "__________________________________________________________________________________________________\n",
      "dense_19 (Dense)                (None, 256)          39680       input_13[0][0]                   \n",
      "__________________________________________________________________________________________________\n",
      "dense_20 (Dense)                (None, 256)          65792       dense_19[0][0]                   \n",
      "__________________________________________________________________________________________________\n",
      "dense_21 (Dense)                (None, 256)          65792       dense_20[0][0]                   \n",
      "__________________________________________________________________________________________________\n",
      "dense_22 (Dense)                (None, 256)          65792       dense_21[0][0]                   \n",
      "__________________________________________________________________________________________________\n",
      "dense_23 (Dense)                (None, 256)          65792       dense_22[0][0]                   \n",
      "__________________________________________________________________________________________________\n",
      "dense_24 (Dense)                (None, 125)          32125       dense_23[0][0]                   \n",
      "__________________________________________________________________________________________________\n",
      "physical_constraint_layer_15 (P (None, 125)          0           input_13[0][0]                   \n",
      "                                                                 dense_24[0][0]                   \n",
      "==================================================================================================\n",
      "Total params: 334,973\n",
      "Trainable params: 334,973\n",
      "Non-trainable params: 0\n",
      "__________________________________________________________________________________________________\n"
     ]
    }
   ],
   "source": [
    "m.summary()"
   ]
  },
  {
   "cell_type": "code",
   "execution_count": 119,
   "metadata": {},
   "outputs": [
    {
     "name": "stdout",
     "output_type": "stream",
     "text": [
      "Epoch 1/1\n",
      "9024/9024 [==============================] - 76s 8ms/step - loss: 856194.9282\n"
     ]
    },
    {
     "data": {
      "text/plain": [
       "<keras.callbacks.History at 0x7fe2486d4d30>"
      ]
     },
     "execution_count": 119,
     "metadata": {},
     "output_type": "execute_result"
    }
   ],
   "source": [
    "m.fit_generator(gen, train_gen_obj.n_batches, epochs=1)"
   ]
  },
  {
   "cell_type": "code",
   "execution_count": 115,
   "metadata": {},
   "outputs": [],
   "source": [
    "preds = m.predict_on_batch(x)"
   ]
  },
  {
   "cell_type": "code",
   "execution_count": 117,
   "metadata": {},
   "outputs": [
    {
     "data": {
      "image/png": "[encoded data removed]",
      "text/plain": [
       "<Figure size 432x288 with 1 Axes>"
      ]
     },
     "metadata": {},
     "output_type": "display_data"
    }
   ],
   "source": [
    "plt.plot(preds[0], label='nn')\n",
    "plt.plot(y[0], label='truth')\n",
    "plt.legend();"
   ]
  },
  {
   "cell_type": "markdown",
   "metadata": {},
   "source": [
    "## Get output of intermediate layer"
   ]
  },
  {
   "cell_type": "code",
   "execution_count": 121,
   "metadata": {},
   "outputs": [],
   "source": [
    "# Create a new model just for illustration, this is not a functional model!\n",
    "inp = Input(shape=(154,))\n",
    "act = Dense(125, activation='relu')(inp)\n",
    "phy = PhysicalConstraintLayer(\n",
    "    input_shape=(125,), fsub=fsub, fdiv=fdiv\n",
    ")([inp, act])\n",
    "out = Dense(125)(phy)\n",
    "m = Model(inputs=inp, outputs=out)"
   ]
  },
  {
   "cell_type": "code",
   "execution_count": 122,
   "metadata": {},
   "outputs": [],
   "source": [
    "m.compile('adam', 'mse')"
   ]
  },
  {
   "cell_type": "code",
   "execution_count": 123,
   "metadata": {},
   "outputs": [
    {
     "name": "stdout",
     "output_type": "stream",
     "text": [
      "Epoch 1/1\n",
      "9024/9024 [==============================] - 47s 5ms/step - loss: 8010.4889\n"
     ]
    },
    {
     "data": {
      "text/plain": [
       "<keras.callbacks.History at 0x7fe2487ed588>"
      ]
     },
     "execution_count": 123,
     "metadata": {},
     "output_type": "execute_result"
    }
   ],
   "source": [
    "m.fit_generator(gen, train_gen_obj.n_batches, epochs=1)"
   ]
  },
  {
   "cell_type": "code",
   "execution_count": 124,
   "metadata": {},
   "outputs": [
    {
     "data": {
      "text/plain": [
       "[<keras.engine.topology.InputLayer at 0x7fe2487ed9e8>,\n",
       " <keras.layers.core.Dense at 0x7fe2487ed9b0>,\n",
       " <__main__.PhysicalConstraintLayer at 0x7fe2487eda58>,\n",
       " <keras.layers.core.Dense at 0x7fe2487edb38>]"
      ]
     },
     "execution_count": 124,
     "metadata": {},
     "output_type": "execute_result"
    }
   ],
   "source": [
    "m.layers"
   ]
  },
  {
   "cell_type": "code",
   "execution_count": 146,
   "metadata": {},
   "outputs": [
    {
     "data": {
      "text/plain": [
       "-0.050036915"
      ]
     },
     "execution_count": 146,
     "metadata": {},
     "output_type": "execute_result"
    }
   ],
   "source": [
    "m.layers[1].get_weights()[0][0][0]"
   ]
  },
  {
   "cell_type": "code",
   "execution_count": 147,
   "metadata": {},
   "outputs": [],
   "source": [
    "# Now get output of the trained model for the phy layer.\n",
    "inter_model = Model(inputs=[inp], outputs=phy)"
   ]
  },
  {
   "cell_type": "code",
   "execution_count": 150,
   "metadata": {},
   "outputs": [
    {
     "data": {
      "text/plain": [
       "-0.050036915"
      ]
     },
     "execution_count": 150,
     "metadata": {},
     "output_type": "execute_result"
    }
   ],
   "source": [
    "inter_model.layers[1].get_weights()[0][0][0]"
   ]
  },
  {
   "cell_type": "code",
   "execution_count": 148,
   "metadata": {},
   "outputs": [],
   "source": [
    "# Get a batch of data\n",
    "x, y = next(gen)"
   ]
  },
  {
   "cell_type": "code",
   "execution_count": 149,
   "metadata": {},
   "outputs": [
    {
     "data": {
      "text/plain": [
       "array([[1.0915890e+03, 1.0915890e+03, 1.0915891e+03, ..., 9.4080812e-01,\n",
       "        0.0000000e+00, 2.2885585e-01],\n",
       "       [1.0915890e+03, 1.0915890e+03, 1.0915891e+03, ..., 1.0180218e+00,\n",
       "        0.0000000e+00, 0.0000000e+00],\n",
       "       [1.0915890e+03, 1.0915889e+03, 1.0915891e+03, ..., 1.9776658e+00,\n",
       "        0.0000000e+00, 6.8907785e-01],\n",
       "       ...,\n",
       "       [1.0915889e+03, 1.0915889e+03, 1.0915891e+03, ..., 4.9074397e+00,\n",
       "        0.0000000e+00, 0.0000000e+00],\n",
       "       [1.0915889e+03, 1.0915889e+03, 1.0915891e+03, ..., 6.1845980e+00,\n",
       "        0.0000000e+00, 1.6628009e-01],\n",
       "       [1.0915889e+03, 1.0915889e+03, 1.0915891e+03, ..., 5.9749470e+00,\n",
       "        0.0000000e+00, 0.0000000e+00]], dtype=float32)"
      ]
     },
     "execution_count": 149,
     "metadata": {},
     "output_type": "execute_result"
    }
   ],
   "source": [
    "inter_model.predict(x)"
   ]
  },
  {
   "cell_type": "code",
   "execution_count": null,
   "metadata": {},
   "outputs": [],
   "source": []
  }
 ],
 "metadata": {
  "kernelspec": {
   "display_name": "Python 3",
   "language": "python",
   "name": "python3"
  },
  "language_info": {
   "codemirror_mode": {
    "name": "ipython",
    "version": 3
   },
   "file_extension": ".py",
   "mimetype": "text/x-python",
   "name": "python",
   "nbconvert_exporter": "python",
   "pygments_lexer": "ipython3",
   "version": "3.6.7"
  },
  "toc": {
   "base_numbering": 1,
   "nav_menu": {},
   "number_sections": true,
   "sideBar": false,
   "skip_h1_title": true,
   "title_cell": "Table of Contents",
   "title_sidebar": "Contents",
   "toc_cell": false,
   "toc_position": {},
   "toc_section_display": true,
   "toc_window_display": false
  }
 },
 "nbformat": 4,
 "nbformat_minor": 2
}

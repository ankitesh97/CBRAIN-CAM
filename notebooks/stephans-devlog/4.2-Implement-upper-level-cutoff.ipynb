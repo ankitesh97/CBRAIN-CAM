{
 "cells": [
  {
   "cell_type": "markdown",
   "metadata": {},
   "source": [
    "# Cut off upper level inputs\n",
    "\n",
    "Should happen in the data generator."
   ]
  },
  {
   "cell_type": "code",
   "execution_count": 1,
   "metadata": {},
   "outputs": [],
   "source": [
    "%load_ext autoreload\n",
    "%autoreload 2"
   ]
  },
  {
   "cell_type": "code",
   "execution_count": 18,
   "metadata": {},
   "outputs": [],
   "source": [
    "from cbrain.imports import *\n",
    "from cbrain.cam_constants import *\n",
    "from cbrain.normalization import *"
   ]
  },
  {
   "cell_type": "markdown",
   "metadata": {},
   "source": [
    "## Adapt DataGenerator"
   ]
  },
  {
   "cell_type": "code",
   "execution_count": 5,
   "metadata": {},
   "outputs": [],
   "source": [
    "class DataGenerator(tf.keras.utils.Sequence):\n",
    "    \"\"\"\n",
    "    https://stanford.edu/~shervine/blog/keras-how-to-generate-data-on-the-fly\n",
    "\n",
    "    Data generator class.\n",
    "    \"\"\"\n",
    "\n",
    "    def __init__(self, data_fn, input_vars, output_vars,\n",
    "                 norm_fn=None, input_transform=None, output_transform=None,\n",
    "                 batch_size=1024, shuffle=True, xarray=False, var_cut_off=None):\n",
    "        # Just copy over the attributes\n",
    "        self.data_fn, self.norm_fn = data_fn, norm_fn\n",
    "        self.input_vars, self.output_vars = input_vars, output_vars\n",
    "        self.batch_size, self.shuffle = batch_size, shuffle\n",
    "\n",
    "        # Open datasets\n",
    "        self.data_ds = xr.open_dataset(data_fn)\n",
    "        if norm_fn is not None: self.norm_ds = xr.open_dataset(norm_fn)\n",
    "\n",
    "        # Compute number of samples and batches\n",
    "        self.n_samples = self.data_ds.vars.shape[0]\n",
    "        self.n_batches = int(np.floor(self.n_samples) / self.batch_size)\n",
    "\n",
    "        # Get input and output variable indices\n",
    "        self.input_idxs = return_var_idxs(self.data_ds, input_vars, var_cut_off)\n",
    "        self.output_idxs = return_var_idxs(self.data_ds, output_vars)\n",
    "        self.n_inputs, self.n_outputs = len(self.input_idxs), len(self.output_idxs)\n",
    "\n",
    "        # Initialize input and output normalizers/transformers\n",
    "        if input_transform is None:\n",
    "            self.input_transform = Normalizer()\n",
    "        elif type(input_transform) is tuple:\n",
    "            self.input_transform = InputNormalizer(\n",
    "                self.norm_ds, input_vars, input_transform[0], input_transform[1], var_cut_off)\n",
    "        else:\n",
    "            self.input_transform = input_transform  # Assume an initialized normalizer is passed\n",
    "\n",
    "        if output_transform is None:\n",
    "            self.output_transform = Normalizer()\n",
    "        elif type(output_transform) is dict:\n",
    "            self.output_transform = DictNormalizer(self.norm_ds, output_vars, output_transform)\n",
    "        else:\n",
    "            self.output_transform = output_transform  # Assume an initialized normalizer is passed\n",
    "\n",
    "        # Now close the xarray file and load it as an h5 file instead\n",
    "        # This significantly speeds up the reading of the data...\n",
    "        if not xarray:\n",
    "            self.data_ds.close()\n",
    "            self.data_ds = h5py.File(data_fn, 'r')\n",
    "\n",
    "    def __len__(self):\n",
    "        return self.n_batches\n",
    "\n",
    "    def __getitem__(self, index):\n",
    "        # Compute start and end indices for batch\n",
    "        start_idx = index * self.batch_size\n",
    "        end_idx = start_idx + self.batch_size\n",
    "\n",
    "        # Grab batch from data\n",
    "        batch = self.data_ds['vars'][start_idx:end_idx]\n",
    "\n",
    "        # Split into inputs and outputs\n",
    "        X = batch[:, self.input_idxs]\n",
    "        Y = batch[:, self.output_idxs]\n",
    "\n",
    "        # Normalize\n",
    "        X = self.input_transform.transform(X)\n",
    "        Y = self.output_transform.transform(Y)\n",
    "\n",
    "        return X, Y\n",
    "\n",
    "    def on_epoch_end(self):\n",
    "        self.indices = np.arange(self.n_batches)\n",
    "        if self.shuffle: np.random.shuffle(self.indices)"
   ]
  },
  {
   "cell_type": "code",
   "execution_count": 20,
   "metadata": {},
   "outputs": [],
   "source": [
    "def return_var_idxs(ds, var_list, var_cut_off=None):\n",
    "    \"\"\"\n",
    "    To be used on stacked variable dimension. Returns indices array\n",
    "\n",
    "    Parameters\n",
    "    ----------\n",
    "    ds: xarray dataset\n",
    "    var_list: list of variables\n",
    "\n",
    "    Returns\n",
    "    -------\n",
    "    var_idxs: indices array\n",
    "\n",
    "    \"\"\"\n",
    "    if var_cut_off is None:\n",
    "        var_idxs = np.concatenate([np.where(ds.var_names == v)[0] for v in var_list])\n",
    "    else:\n",
    "        idxs_list = []\n",
    "        for v in var_list:\n",
    "            i = np.where(ds.var_names == v)[0]\n",
    "            if v in var_cut_off.keys():\n",
    "                i = i[var_cut_off[v]:]\n",
    "            idxs_list.append(i)\n",
    "        var_idxs = np.concatenate(idxs_list)\n",
    "    return var_idxs"
   ]
  },
  {
   "cell_type": "code",
   "execution_count": 7,
   "metadata": {},
   "outputs": [],
   "source": [
    "inputs =  ['QBP', 'TBP', 'VBP', 'PS', 'SOLIN', 'SHFLX', 'LHFLX']\n",
    "outputs =  ['PHQ', 'TPHYSTND', 'FSNT', 'FSNS', 'FLNT', 'FLNS', 'PRECT']"
   ]
  },
  {
   "cell_type": "code",
   "execution_count": 12,
   "metadata": {},
   "outputs": [
    {
     "data": {
      "text/plain": [
       "[<matplotlib.lines.Line2D at 0x7fadc3f9d080>]"
      ]
     },
     "execution_count": 12,
     "metadata": {},
     "output_type": "execute_result"
    },
    {
     "data": {
      "image/png": "[encoded data removed]",
      "text/plain": [
       "<Figure size 432x288 with 1 Axes>"
      ]
     },
     "metadata": {
      "needs_background": "light"
     },
     "output_type": "display_data"
    }
   ],
   "source": [
    "plt.plot(P, range(30))"
   ]
  },
  {
   "cell_type": "code",
   "execution_count": 13,
   "metadata": {},
   "outputs": [
    {
     "data": {
      "text/plain": [
       "array([  3.6434655,   7.5948195,  14.356632 ,  24.61222  ,  38.2683   ,\n",
       "        54.595478 ,  72.01245  ,  87.82123  , 103.31713  , 121.54725  ,\n",
       "       142.99405  , 168.22508  , 197.90808  , 232.82861  , 273.91083  ,\n",
       "       322.24188  , 379.1009   , 445.99258  , 524.6872   , 609.7787   ,\n",
       "       691.3894   , 763.4045   , 820.85834  , 859.53485  , 887.0203   ,\n",
       "       912.64453  , 936.1984   , 957.4855   , 976.32544  , 992.5561   ],\n",
       "      dtype=float32)"
      ]
     },
     "execution_count": 13,
     "metadata": {},
     "output_type": "execute_result"
    }
   ],
   "source": [
    "P"
   ]
  },
  {
   "cell_type": "code",
   "execution_count": 14,
   "metadata": {},
   "outputs": [],
   "source": [
    "var_cut_off = {\n",
    "    'QBP': 10,\n",
    "    'TBP': 10,\n",
    "}"
   ]
  },
  {
   "cell_type": "code",
   "execution_count": 21,
   "metadata": {},
   "outputs": [],
   "source": [
    "gen = DataGenerator('/local/S.Rasp/preprocessed_data/001_train.nc', inputs, outputs,\n",
    "                    xarray=True, shuffle=False, var_cut_off=var_cut_off)"
   ]
  },
  {
   "cell_type": "code",
   "execution_count": 22,
   "metadata": {},
   "outputs": [],
   "source": [
    "X, Y = gen[0]"
   ]
  },
  {
   "cell_type": "code",
   "execution_count": 24,
   "metadata": {},
   "outputs": [
    {
     "data": {
      "text/plain": [
       "((1024, 74), (1024, 65))"
      ]
     },
     "execution_count": 24,
     "metadata": {},
     "output_type": "execute_result"
    }
   ],
   "source": [
    "X.shape, Y.shape"
   ]
  },
  {
   "cell_type": "markdown",
   "metadata": {},
   "source": [
    "## Adapt Normalization"
   ]
  },
  {
   "cell_type": "code",
   "execution_count": 26,
   "metadata": {},
   "outputs": [],
   "source": [
    "class InputNormalizer(object):\n",
    "    \"\"\"Normalizer that subtracts and then divides.\"\"\"\n",
    "    def __init__(self, norm_ds, var_list, sub='mean', div='std_by_var', var_cut_off=None):\n",
    "        var_idxs = return_var_idxs(norm_ds, var_list, var_cut_off)\n",
    "        self.sub = norm_ds[sub].values[var_idxs]\n",
    "        if div == 'maxrs':\n",
    "            rang = norm_ds['max'][var_idxs] - norm_ds['min'][var_idxs]\n",
    "            std_by_var = rang.copy()\n",
    "            for v in var_list:\n",
    "                std_by_var[std_by_var.var_names == v] = norm_ds['std_by_var'][\n",
    "                    norm_ds.var_names_single == v]\n",
    "            self.div = np.maximum(rang, std_by_var).values\n",
    "        elif div == 'std_by_var':\n",
    "            # SR: Total mess. Should be handled better\n",
    "            tmp_var_names = norm_ds.var_names[var_idxs]\n",
    "            self.div = np.zeros(len(tmp_var_names))\n",
    "            for v in var_list:\n",
    "                std_by_var = norm_ds['std_by_var'][norm_ds.var_names_single == v]\n",
    "                self.div[tmp_var_names == v] = std_by_var\n",
    "        else:\n",
    "            self.div = norm_ds[div].values[var_idxs]\n",
    "        self.transform_arrays = {\n",
    "            'sub': self.sub,\n",
    "            'div': self.div\n",
    "        }\n",
    "\n",
    "    def transform(self, x):\n",
    "        return (x - self.sub) / self.div\n",
    "\n",
    "    def inverse_transform(self, x):\n",
    "        return (x * self.div) + self.sub"
   ]
  },
  {
   "cell_type": "code",
   "execution_count": 27,
   "metadata": {},
   "outputs": [],
   "source": [
    "norm_ds = xr.open_dataset('/local/S.Rasp/preprocessed_data/001_norm.nc')"
   ]
  },
  {
   "cell_type": "code",
   "execution_count": 31,
   "metadata": {},
   "outputs": [],
   "source": [
    "in_norm = InputNormalizer(norm_ds, inputs, div='maxrs', var_cut_off=var_cut_off)"
   ]
  },
  {
   "cell_type": "code",
   "execution_count": 32,
   "metadata": {},
   "outputs": [
    {
     "data": {
      "text/plain": [
       "(74,)"
      ]
     },
     "execution_count": 32,
     "metadata": {},
     "output_type": "execute_result"
    }
   ],
   "source": [
    "in_norm.div.shape"
   ]
  },
  {
   "cell_type": "code",
   "execution_count": 34,
   "metadata": {},
   "outputs": [],
   "source": [
    "import json"
   ]
  },
  {
   "cell_type": "code",
   "execution_count": 37,
   "metadata": {},
   "outputs": [
    {
     "data": {
      "text/plain": [
       "{'QBP': 10, 'TBP': 10}"
      ]
     },
     "execution_count": 37,
     "metadata": {},
     "output_type": "execute_result"
    }
   ],
   "source": [
    "json.loads('{\"QBP\": 10, \"TBP\": 10}')"
   ]
  },
  {
   "cell_type": "code",
   "execution_count": null,
   "metadata": {},
   "outputs": [],
   "source": []
  }
 ],
 "metadata": {
  "kernelspec": {
   "display_name": "Python 3",
   "language": "python",
   "name": "python3"
  },
  "language_info": {
   "codemirror_mode": {
    "name": "ipython",
    "version": 3
   },
   "file_extension": ".py",
   "mimetype": "text/x-python",
   "name": "python",
   "nbconvert_exporter": "python",
   "pygments_lexer": "ipython3",
   "version": "3.6.8"
  },
  "toc": {
   "base_numbering": 1,
   "nav_menu": {},
   "number_sections": true,
   "sideBar": false,
   "skip_h1_title": true,
   "title_cell": "Table of Contents",
   "title_sidebar": "Contents",
   "toc_cell": false,
   "toc_position": {},
   "toc_section_display": true,
   "toc_window_display": false
  }
 },
 "nbformat": 4,
 "nbformat_minor": 2
}

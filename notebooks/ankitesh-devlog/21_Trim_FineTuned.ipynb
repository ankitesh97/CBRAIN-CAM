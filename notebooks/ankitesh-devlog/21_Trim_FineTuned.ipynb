{
 "cells": [
  {
   "cell_type": "code",
   "execution_count": 1,
   "metadata": {},
   "outputs": [
    {
     "name": "stdout",
     "output_type": "stream",
     "text": [
      "WARNING:tensorflow:From /export/home/ankitesg/anaconda3/envs/CBrainEnv2/lib/python3.6/site-packages/tensorflow/python/compat/v2_compat.py:96: disable_resource_variables (from tensorflow.python.ops.variable_scope) is deprecated and will be removed in a future version.\n",
      "Instructions for updating:\n",
      "non-resource variables are not supported in the long term\n"
     ]
    }
   ],
   "source": [
    "from cbrain.imports import *\n",
    "from cbrain.data_generator import *\n",
    "from cbrain.cam_constants import *\n",
    "from cbrain.losses import *\n",
    "from cbrain.utils import limit_mem\n",
    "from cbrain.layers import *\n",
    "from cbrain.data_generator import DataGenerator\n",
    "import tensorflow as tf\n",
    "from tensorflow import math as tfm\n",
    "#import tensorflow_probability as tfp\n",
    "from tensorflow.keras.layers import *\n",
    "from tensorflow.keras.models import *\n",
    "import xarray as xr\n",
    "import numpy as np\n",
    "from cbrain.model_diagnostics import ModelDiagnostics\n",
    "import matplotlib as mpl\n",
    "import matplotlib.pyplot as plt\n",
    "import matplotlib.image as imag\n",
    "import scipy.integrate as sin\n",
    "#import cartopy.crs as ccrs\n",
    "import matplotlib.ticker as mticker\n",
    "#from cartopy.mpl.gridliner import LONGITUDE_FORMATTER, LATITUDE_FORMATTER\n",
    "import pickle\n",
    "import sklearn\n",
    "from sklearn.linear_model import LinearRegression\n",
    "from scipy import stats\n",
    "from sklearn.preprocessing import OneHotEncoder\n",
    "import seaborn as sns\n",
    "from cbrain.imports import *\n",
    "from cbrain.utils import *\n",
    "from cbrain.normalization import *\n",
    "import h5py\n",
    "from sklearn.preprocessing import OneHotEncoder\n",
    "from cbrain.climate_invariant import *\n",
    "import yaml\n",
    "from tensorflow.keras.callbacks import ModelCheckpoint, EarlyStopping"
   ]
  },
  {
   "cell_type": "code",
   "execution_count": 2,
   "metadata": {},
   "outputs": [],
   "source": [
    "# Load coordinates (just pick any file from the climate model run)\n",
    "coor = xr.open_dataset(\"/DFS-L/DATA/pritchard/ankitesg/data/CESM2_f19_v13_updated_NN_pelayout01_ens_07.cam.h1.2003-01-22-00000.nc\",\\\n",
    "                    decode_times=False)\n",
    "lat = coor.lat; lon = coor.lon; lev = coor.lev;\n",
    "DATA_DIR = '/DFS-L/DATA/pritchard/ankitesg/datav3/'\n",
    "hyam = coor.hyam\n",
    "hybm = coor.hybm\n",
    "scale_dict = load_pickle('/export/nfs0home/ankitesg/tom/CBRAIN-CAM/nn_config/scale_dicts/2020_10_16_scale_dict_RG.pkl')['scale_dict_RG']"
   ]
  },
  {
   "cell_type": "code",
   "execution_count": 3,
   "metadata": {},
   "outputs": [],
   "source": [
    "class DataGeneratorClimInvRealGeo(DataGenerator):\n",
    "\n",
    "    def __init__(self, data_fn, input_vars, output_vars,\n",
    "             norm_fn=None, input_transform=None, output_transform=None,\n",
    "             batch_size=1024, shuffle=True, xarray=False, var_cut_off=None, normalize_flag=True,\n",
    "             rh_trans=True,t2tns_trans=True,\n",
    "             lhflx_trans=True,\n",
    "             scaling=True,interpolate=True,\n",
    "             hyam=None,hybm=None,\n",
    "             inp_subRH=None,inp_divRH=None,\n",
    "             inp_subTNS=None,inp_divTNS=None,\n",
    "             lev=None, interm_size=40,\n",
    "             lower_lim=6,\n",
    "             is_continous=True,Tnot=5,\n",
    "                mode='train', exp=None):\n",
    "        self.scaling = scaling\n",
    "        self.interpolate = interpolate\n",
    "        self.rh_trans = rh_trans\n",
    "        self.t2tns_trans = t2tns_trans\n",
    "        self.lhflx_trans = lhflx_trans\n",
    "        self.inp_shape = 64\n",
    "        self.exp = exp\n",
    "        self.mode=mode\n",
    "        super().__init__(data_fn, input_vars,output_vars,norm_fn,input_transform,output_transform,\n",
    "                        batch_size,shuffle,xarray,var_cut_off,normalize_flag) ## call the base data generator\n",
    "        self.inp_sub = self.input_transform.sub\n",
    "        self.inp_div = self.input_transform.div\n",
    "        self.new_idx = np.concatenate((self.input_idxs[8:26],self.input_idxs[34:52],self.input_idxs[60:78],self.input_idxs[86:104],\\\n",
    "        self.input_idxs[104:]))\n",
    "        self.new_idx = np.concatenate((np.arange(8,26),np.arange(34,52),np.arange(60,78),np.arange(86,104),np.arange(104,108)))\n",
    "\n",
    "\n",
    "    def __getitem__(self, index):\n",
    "        # Compute start and end indices for batch\n",
    "        start_idx = index * self.batch_size\n",
    "        end_idx = start_idx + self.batch_size\n",
    "\n",
    "        # Grab batch from data\n",
    "        batch = self.data_ds['vars'][start_idx:end_idx]\n",
    "#         print(self.new_idx)\n",
    "        # Split into inputs and outputs\n",
    "        X = batch[:, self.input_idxs]\n",
    "        Y = batch[:, self.output_idxs]\n",
    "        # Normalize\n",
    "        X_norm = self.input_transform.transform(X)\n",
    "        Y = self.output_transform.transform(Y)\n",
    "        return X_norm[:,self.new_idx], Y"
   ]
  },
  {
   "cell_type": "code",
   "execution_count": 4,
   "metadata": {},
   "outputs": [],
   "source": [
    "in_vars = ['QBP','TBP','CLDLIQBP','CLDICEBP','PS', 'SOLIN', 'SHFLX', 'LHFLX']\n",
    "out_vars = ['QBCTEND','TBCTEND','CLDLIQBCTEND', 'CLDICEBCTEND', 'NN2L_FLWDS', 'NN2L_PRECC', \n",
    "            'NN2L_PRECSC', 'NN2L_SOLL', 'NN2L_SOLLD', 'NN2L_SOLS', 'NN2L_SOLSD', 'NN2L_NETSW']"
   ]
  },
  {
   "cell_type": "code",
   "execution_count": 5,
   "metadata": {},
   "outputs": [],
   "source": [
    "TRAINFILE = 'RG_SP_M4K_train_shuffle.nc'\n",
    "NORMFILE = 'RG_SP_M4K_NORM_norm.nc'\n",
    "VALIDFILE = 'RG_SP_M4K_valid.nc'"
   ]
  },
  {
   "cell_type": "code",
   "execution_count": 6,
   "metadata": {},
   "outputs": [],
   "source": [
    "train_gen_bf = DataGeneratorClimInvRealGeo(\n",
    "    data_fn = f'{DATA_DIR}{TRAINFILE}',\n",
    "    input_vars = in_vars,\n",
    "    output_vars = out_vars,\n",
    "    norm_fn = f'{DATA_DIR}{NORMFILE}',\n",
    "    input_transform = ('mean', 'maxrs'),\n",
    "    output_transform = scale_dict,\n",
    "    batch_size=1024,\n",
    "    shuffle=True,\n",
    "    normalize_flag=True,\n",
    "    lev=lev,\n",
    "    hyam=hyam,hybm=hybm,\n",
    "    rh_trans = False,t2tns_trans=False,\n",
    "    lhflx_trans=False,\n",
    "    scaling=False,\n",
    "    interpolate=False\n",
    ")\n"
   ]
  },
  {
   "cell_type": "code",
   "execution_count": 7,
   "metadata": {},
   "outputs": [],
   "source": [
    "valid_gen_bf = DataGeneratorClimInvRealGeo(\n",
    "    data_fn = f'{DATA_DIR}{VALIDFILE}',\n",
    "    input_vars = in_vars,\n",
    "    output_vars = out_vars,\n",
    "    norm_fn = f'{DATA_DIR}{NORMFILE}',\n",
    "    input_transform = ('mean', 'maxrs'),\n",
    "    output_transform = scale_dict,\n",
    "    batch_size=1024,\n",
    "    shuffle=True,\n",
    "    normalize_flag=True,\n",
    "    lev=lev,\n",
    "    hyam=hyam,hybm=hybm,\n",
    "    rh_trans = False,t2tns_trans=False,\n",
    "    lhflx_trans=False,\n",
    "    scaling=False,\n",
    "    interpolate=False\n",
    ")\n"
   ]
  },
  {
   "cell_type": "code",
   "execution_count": 15,
   "metadata": {},
   "outputs": [],
   "source": [
    "model = Sequential()\n",
    "model.add(Input(shape=(76,)))\n",
    "model.add(Dense(320, activation='relu'))\n",
    "for i in range(10):\n",
    "    model.add(Dense(320, activation='relu'))\n",
    "model.add(Dense(112, activation='linear'))"
   ]
  },
  {
   "cell_type": "code",
   "execution_count": 16,
   "metadata": {},
   "outputs": [
    {
     "data": {
      "text/plain": [
       "<tensorflow.python.training.tracking.util.CheckpointLoadStatus at 0x7fc8380fe748>"
      ]
     },
     "execution_count": 16,
     "metadata": {},
     "output_type": "execute_result"
    }
   ],
   "source": [
    "model.load_weights('/export/nfs0home/ankitesg/CBRAIN-CAM/notebooks/ankitesh-devlog/random_search/RGBF_TrimV2/trial_1db6530249e0ce7940f6617df2a27a6d/checkpoints/epoch_0/checkpoint')"
   ]
  },
  {
   "cell_type": "code",
   "execution_count": 17,
   "metadata": {},
   "outputs": [],
   "source": [
    "opt = tf.keras.optimizers.Adam()"
   ]
  },
  {
   "cell_type": "code",
   "execution_count": 18,
   "metadata": {},
   "outputs": [],
   "source": [
    "model.compile(optimizer=opt, loss='mse')"
   ]
  },
  {
   "cell_type": "code",
   "execution_count": 19,
   "metadata": {},
   "outputs": [],
   "source": [
    "# model.compile(tf.keras.optimizers.Adam(), loss=\"mse\")\n",
    "path_HDF5 = '/DFS-L/DATA/pritchard/ankitesg/models/'\n",
    "earlyStopping = EarlyStopping(monitor='val_loss', patience=10, verbose=0, mode='min')\n",
    "mcp_save = ModelCheckpoint(path_HDF5+'BF_RG_TrimTuned_V1.h5',save_best_only=True, monitor='val_loss', mode='min')"
   ]
  },
  {
   "cell_type": "code",
   "execution_count": 20,
   "metadata": {},
   "outputs": [
    {
     "name": "stdout",
     "output_type": "stream",
     "text": [
      "Epoch 1/10\n",
      "42120/42120 [==============================] - 1218s 29ms/step - batch: 21059.5000 - size: 1024.0000 - loss: 164.8028 - val_loss: 171.7823\n",
      "Epoch 2/10\n",
      "42120/42120 [==============================] - 1309s 31ms/step - batch: 21059.5000 - size: 1024.0000 - loss: 164.0902 - val_loss: 171.1855\n",
      "Epoch 3/10\n",
      "42120/42120 [==============================] - 1280s 30ms/step - batch: 21059.5000 - size: 1024.0000 - loss: 163.4447 - val_loss: 167.2046\n",
      "Epoch 4/10\n",
      "42120/42120 [==============================] - 1303s 31ms/step - batch: 21059.5000 - size: 1024.0000 - loss: 162.9060 - val_loss: 170.2918\n",
      "Epoch 5/10\n",
      "42120/42120 [==============================] - 1308s 31ms/step - batch: 21059.5000 - size: 1024.0000 - loss: 162.4249 - val_loss: 165.7569\n",
      "Epoch 6/10\n",
      "42120/42120 [==============================] - 1346s 32ms/step - batch: 21059.5000 - size: 1024.0000 - loss: 161.9562 - val_loss: 166.9073\n",
      "Epoch 7/10\n",
      "42120/42120 [==============================] - 1305s 31ms/step - batch: 21059.5000 - size: 1024.0000 - loss: 161.5698 - val_loss: 166.3734\n",
      "Epoch 8/10\n",
      "42120/42120 [==============================] - 1290s 31ms/step - batch: 21059.5000 - size: 1024.0000 - loss: 161.1603 - val_loss: 166.4520\n",
      "Epoch 9/10\n",
      "42120/42120 [==============================] - 1291s 31ms/step - batch: 21059.5000 - size: 1024.0000 - loss: 160.8174 - val_loss: 166.2422\n",
      "Epoch 10/10\n",
      "42120/42120 [==============================] - 1284s 30ms/step - batch: 21059.5000 - size: 1024.0000 - loss: 160.4672 - val_loss: 167.8784\n"
     ]
    }
   ],
   "source": [
    "with tf.device('/gpu:1'):\n",
    "    Nep = 10\n",
    "    model.fit_generator(train_gen_bf, epochs=Nep, validation_data=valid_gen_bf\n",
    "                        ,callbacks=[earlyStopping, mcp_save])"
   ]
  },
  {
   "cell_type": "code",
   "execution_count": null,
   "metadata": {},
   "outputs": [],
   "source": []
  },
  {
   "cell_type": "code",
   "execution_count": null,
   "metadata": {},
   "outputs": [],
   "source": []
  },
  {
   "cell_type": "markdown",
   "metadata": {},
   "source": [
    "## RH Fine tuned"
   ]
  },
  {
   "cell_type": "code",
   "execution_count": 6,
   "metadata": {},
   "outputs": [],
   "source": [
    "class DataGeneratorClimInvRealGeo(DataGenerator):\n",
    "\n",
    "    def __init__(self, data_fn, input_vars, output_vars,\n",
    "             norm_fn=None, input_transform=None, output_transform=None,\n",
    "             batch_size=1024, shuffle=True, xarray=False, var_cut_off=None, normalize_flag=True,\n",
    "             rh_trans=True,t2tns_trans=True,\n",
    "             lhflx_trans=True,\n",
    "             scaling=True,interpolate=True,\n",
    "             hyam=None,hybm=None,\n",
    "             inp_subRH=None,inp_divRH=None,\n",
    "             inp_subTNS=None,inp_divTNS=None,\n",
    "             lev=None, interm_size=40,\n",
    "             lower_lim=6,\n",
    "             is_continous=True,Tnot=5,\n",
    "                mode='train', exp=None):\n",
    "        self.scaling = scaling\n",
    "        self.interpolate = interpolate\n",
    "        self.rh_trans = rh_trans\n",
    "        self.t2tns_trans = t2tns_trans\n",
    "        self.lhflx_trans = lhflx_trans\n",
    "        self.inp_shape = 64\n",
    "        self.exp = exp\n",
    "        self.mode=mode\n",
    "        super().__init__(data_fn, input_vars,output_vars,norm_fn,input_transform,output_transform,\n",
    "                        batch_size,shuffle,xarray,var_cut_off,normalize_flag) ## call the base data generator\n",
    "        self.inp_sub = self.input_transform.sub\n",
    "        self.inp_div = self.input_transform.div\n",
    "        self.new_idx = np.concatenate((np.arange(8,26),np.arange(34,52),np.arange(60,78),np.arange(86,104),np.arange(104,108)))\n",
    "        self.new_output_idx = np.concatenate((np.arange(8,26),np.arange(26,52),np.arange(60,78),np.arange(86,104),np.arange(104,112)))\n",
    "\n",
    "        if self.rh_trans:\n",
    "            self.qv2rhLayer = QV2RHNumpyReal(self.inp_sub,self.inp_div,inp_subRH,inp_divRH,hyam,hybm)\n",
    "\n",
    "    def __getitem__(self, index):\n",
    "        # Compute start and end indices for batch\n",
    "        start_idx = index * self.batch_size\n",
    "        end_idx = start_idx + self.batch_size\n",
    "        # Grab batch from data\n",
    "        batch = self.data_ds['vars'][start_idx:end_idx]\n",
    "        X = batch[:, self.input_idxs]\n",
    "        Y = batch[:, self.output_idxs]\n",
    "        # Normalize\n",
    "        X_norm = self.input_transform.transform(X)\n",
    "        Y = self.output_transform.transform(Y)\n",
    "        return X_norm[:,self.new_idx], Y"
   ]
  },
  {
   "cell_type": "code",
   "execution_count": 7,
   "metadata": {},
   "outputs": [],
   "source": [
    "in_vars_RH = ['RH','TBP','CLDLIQBP','CLDICEBP','PS', 'SOLIN', 'SHFLX', 'LHFLX']\n",
    "out_vars_RH =['QBCTEND','TBCTEND','CLDLIQBCTEND', 'CLDICEBCTEND', 'NN2L_FLWDS', 'NN2L_PRECC', \n",
    "            'NN2L_PRECSC', 'NN2L_SOLL', 'NN2L_SOLLD', 'NN2L_SOLS', 'NN2L_SOLSD', 'NN2L_NETSW']\n",
    "\n",
    "TRAINFILE_RH = 'RG_RH_M4K_NORM_train_shuffle.nc'\n",
    "NORMFILE_RH = 'RG_RH_M4K_NORM_norm.nc'\n",
    "VALIDFILE_RH = 'RG_RH_M4K_NORM_valid.nc'\n",
    "BASE_DIR = '/DFS-L/DATA/pritchard/ankitesg/'"
   ]
  },
  {
   "cell_type": "code",
   "execution_count": 8,
   "metadata": {},
   "outputs": [],
   "source": [
    "train_gen_RH = DataGenerator(\n",
    "    data_fn = f\"{BASE_DIR}datav4/{TRAINFILE_RH}\",\n",
    "    input_vars = in_vars_RH,\n",
    "    output_vars = out_vars_RH,\n",
    "    norm_fn = f\"{BASE_DIR}datav4/{NORMFILE_RH}\",\n",
    "    input_transform = ('mean', 'maxrs'),\n",
    "    output_transform = scale_dict,\n",
    "    batch_size=1024,\n",
    "    shuffle=True,\n",
    "    normalize_flag=True\n",
    ")"
   ]
  },
  {
   "cell_type": "code",
   "execution_count": 9,
   "metadata": {},
   "outputs": [],
   "source": [
    "in_vars = ['QBP','TBP','CLDLIQBP','CLDICEBP','PS', 'SOLIN', 'SHFLX', 'LHFLX']\n",
    "out_vars = ['QBCTEND','TBCTEND','CLDLIQBCTEND', 'CLDICEBCTEND', 'NN2L_FLWDS', 'NN2L_PRECC', \n",
    "            'NN2L_PRECSC', 'NN2L_SOLL', 'NN2L_SOLLD', 'NN2L_SOLS', 'NN2L_SOLSD', 'NN2L_NETSW']"
   ]
  },
  {
   "cell_type": "code",
   "execution_count": 10,
   "metadata": {},
   "outputs": [],
   "source": [
    "TRAINFILE = 'RG_SP_M4K_train_shuffle.nc'\n",
    "NORMFILE = 'RG_SP_M4K_NORM_norm.nc'\n",
    "VALIDFILE = 'RG_SP_M4K_valid.nc'"
   ]
  },
  {
   "cell_type": "code",
   "execution_count": 11,
   "metadata": {},
   "outputs": [],
   "source": [
    "train_gen = DataGeneratorClimInvRealGeo(\n",
    "    data_fn = f'{DATA_DIR}{TRAINFILE}',\n",
    "    input_vars = in_vars,\n",
    "    output_vars = out_vars,\n",
    "    norm_fn = f'{DATA_DIR}{NORMFILE}',\n",
    "    input_transform = ('mean', 'maxrs'),\n",
    "    output_transform = scale_dict,\n",
    "    batch_size=1024,\n",
    "    shuffle=True,\n",
    "    normalize_flag=True,\n",
    "    lev=lev,\n",
    "    hyam=hyam,hybm=hybm,\n",
    "    rh_trans = True,t2tns_trans=False,\n",
    "    lhflx_trans=False,\n",
    "    scaling=False,\n",
    "    interpolate=False,\n",
    "    inp_subRH=train_gen_RH.input_transform.sub,inp_divRH=train_gen_RH.input_transform.div\n",
    ")\n"
   ]
  },
  {
   "cell_type": "code",
   "execution_count": 12,
   "metadata": {},
   "outputs": [],
   "source": [
    "valid_gen = DataGeneratorClimInvRealGeo(\n",
    "    data_fn = f'{DATA_DIR}{VALIDFILE}',\n",
    "    input_vars = in_vars,\n",
    "    output_vars = out_vars,\n",
    "    norm_fn = f'{DATA_DIR}{NORMFILE}',\n",
    "    input_transform = ('mean', 'maxrs'),\n",
    "    output_transform = scale_dict,\n",
    "    batch_size=1024,\n",
    "    shuffle=True,\n",
    "    normalize_flag=True,\n",
    "    lev=lev,\n",
    "    hyam=hyam,hybm=hybm,\n",
    "    rh_trans = True,t2tns_trans=False,\n",
    "    lhflx_trans=False,\n",
    "    scaling=False,\n",
    "    interpolate=False,\n",
    "    inp_subRH=train_gen_RH.input_transform.sub,inp_divRH=train_gen_RH.input_transform.div\n",
    ")\n"
   ]
  },
  {
   "cell_type": "code",
   "execution_count": null,
   "metadata": {},
   "outputs": [],
   "source": [
    "model = Sequential()\n",
    "model.add(Input(shape=(76,)))\n",
    "model.add(Dense(320, activation='relu'))\n",
    "for i in range(10):\n",
    "    model.add(Dense(320, activation='relu'))\n",
    "model.add(Dense(112, activation='linear'))"
   ]
  },
  {
   "cell_type": "code",
   "execution_count": 33,
   "metadata": {},
   "outputs": [],
   "source": [
    "opt = tf.keras.optimizers.Adam()"
   ]
  },
  {
   "cell_type": "code",
   "execution_count": 34,
   "metadata": {},
   "outputs": [],
   "source": [
    "model.compile(optimizer=opt, loss='mse')"
   ]
  },
  {
   "cell_type": "code",
   "execution_count": 35,
   "metadata": {},
   "outputs": [],
   "source": [
    "# model.compile(tf.keras.optimizers.Adam(), loss=\"mse\")\n",
    "path_HDF5 = '/DFS-L/DATA/pritchard/ankitesg/models/'\n",
    "earlyStopping = EarlyStopping(monitor='val_loss', patience=10, verbose=0, mode='min')\n",
    "mcp_save = ModelCheckpoint(path_HDF5+'RH_RG_TrimTuned_V1.h5',save_best_only=True, monitor='val_loss', mode='min')"
   ]
  },
  {
   "cell_type": "code",
   "execution_count": 36,
   "metadata": {},
   "outputs": [
    {
     "name": "stdout",
     "output_type": "stream",
     "text": [
      "Epoch 1/12\n",
      "42120/42120 [==============================] - 952s 23ms/step - batch: 21059.5000 - size: 1024.0000 - loss: 210.7031 - val_loss: 194.4751\n",
      "Epoch 2/12\n",
      "42120/42120 [==============================] - 1087s 26ms/step - batch: 21059.5000 - size: 1024.0000 - loss: 187.4419 - val_loss: 187.2387\n",
      "Epoch 3/12\n",
      "42120/42120 [==============================] - 942s 22ms/step - batch: 21059.5000 - size: 1024.0000 - loss: 180.5467 - val_loss: 182.3513\n",
      "Epoch 4/12\n",
      "42120/42120 [==============================] - 1028s 24ms/step - batch: 21059.5000 - size: 1024.0000 - loss: 176.3499 - val_loss: 176.7383\n",
      "Epoch 5/12\n",
      "42120/42120 [==============================] - 1022s 24ms/step - batch: 21059.5000 - size: 1024.0000 - loss: 173.4320 - val_loss: 175.4331\n",
      "Epoch 6/12\n",
      "42120/42120 [==============================] - 888s 21ms/step - batch: 21059.5000 - size: 1024.0000 - loss: 171.2224 - val_loss: 173.3104\n",
      "Epoch 7/12\n",
      "42120/42120 [==============================] - 779s 18ms/step - batch: 21059.5000 - size: 1024.0000 - loss: 169.4588 - val_loss: 173.0213\n",
      "Epoch 8/12\n",
      "42120/42120 [==============================] - 853s 20ms/step - batch: 21059.5000 - size: 1024.0000 - loss: 167.9622 - val_loss: 172.5611\n",
      "Epoch 9/12\n",
      "42120/42120 [==============================] - 990s 23ms/step - batch: 21059.5000 - size: 1024.0000 - loss: 166.8339 - val_loss: 170.9418\n",
      "Epoch 10/12\n",
      "42120/42120 [==============================] - 855s 20ms/step - batch: 21059.5000 - size: 1024.0000 - loss: 165.8970 - val_loss: 168.9284\n",
      "Epoch 11/12\n",
      "42120/42120 [==============================] - 786s 19ms/step - batch: 21059.5000 - size: 1024.0000 - loss: 165.0078 - val_loss: 169.6226\n",
      "Epoch 12/12\n",
      "42120/42120 [==============================] - 855s 20ms/step - batch: 21059.5000 - size: 1024.0000 - loss: 164.2670 - val_loss: 167.4904\n"
     ]
    }
   ],
   "source": [
    "with tf.device('/gpu:1'):\n",
    "    Nep = 12\n",
    "    model.fit_generator(train_gen, epochs=Nep, validation_data=valid_gen\n",
    "                        ,callbacks=[earlyStopping, mcp_save])"
   ]
  },
  {
   "cell_type": "markdown",
   "metadata": {},
   "source": [
    "### Bounded Relu"
   ]
  },
  {
   "cell_type": "code",
   "execution_count": 19,
   "metadata": {},
   "outputs": [],
   "source": [
    "model = Sequential()\n",
    "model.add(Input(shape=(76,)))\n",
    "model.add(Dense(320))\n",
    "model.add(ReLU(max_value=100))\n",
    "for i in range(10):\n",
    "    model.add(Dense(320))\n",
    "    model.add(ReLU(max_value=100))\n",
    "model.add(Dense(112, activation='linear'))"
   ]
  },
  {
   "cell_type": "code",
   "execution_count": 20,
   "metadata": {},
   "outputs": [
    {
     "name": "stdout",
     "output_type": "stream",
     "text": [
      "Model: \"sequential_1\"\n",
      "_________________________________________________________________\n",
      "Layer (type)                 Output Shape              Param #   \n",
      "=================================================================\n",
      "dense_12 (Dense)             (None, 320)               24640     \n",
      "_________________________________________________________________\n",
      "re_lu_11 (ReLU)              (None, 320)               0         \n",
      "_________________________________________________________________\n",
      "dense_13 (Dense)             (None, 320)               102720    \n",
      "_________________________________________________________________\n",
      "re_lu_12 (ReLU)              (None, 320)               0         \n",
      "_________________________________________________________________\n",
      "dense_14 (Dense)             (None, 320)               102720    \n",
      "_________________________________________________________________\n",
      "re_lu_13 (ReLU)              (None, 320)               0         \n",
      "_________________________________________________________________\n",
      "dense_15 (Dense)             (None, 320)               102720    \n",
      "_________________________________________________________________\n",
      "re_lu_14 (ReLU)              (None, 320)               0         \n",
      "_________________________________________________________________\n",
      "dense_16 (Dense)             (None, 320)               102720    \n",
      "_________________________________________________________________\n",
      "re_lu_15 (ReLU)              (None, 320)               0         \n",
      "_________________________________________________________________\n",
      "dense_17 (Dense)             (None, 320)               102720    \n",
      "_________________________________________________________________\n",
      "re_lu_16 (ReLU)              (None, 320)               0         \n",
      "_________________________________________________________________\n",
      "dense_18 (Dense)             (None, 320)               102720    \n",
      "_________________________________________________________________\n",
      "re_lu_17 (ReLU)              (None, 320)               0         \n",
      "_________________________________________________________________\n",
      "dense_19 (Dense)             (None, 320)               102720    \n",
      "_________________________________________________________________\n",
      "re_lu_18 (ReLU)              (None, 320)               0         \n",
      "_________________________________________________________________\n",
      "dense_20 (Dense)             (None, 320)               102720    \n",
      "_________________________________________________________________\n",
      "re_lu_19 (ReLU)              (None, 320)               0         \n",
      "_________________________________________________________________\n",
      "dense_21 (Dense)             (None, 320)               102720    \n",
      "_________________________________________________________________\n",
      "re_lu_20 (ReLU)              (None, 320)               0         \n",
      "_________________________________________________________________\n",
      "dense_22 (Dense)             (None, 320)               102720    \n",
      "_________________________________________________________________\n",
      "re_lu_21 (ReLU)              (None, 320)               0         \n",
      "_________________________________________________________________\n",
      "dense_23 (Dense)             (None, 112)               35952     \n",
      "=================================================================\n",
      "Total params: 1,087,792\n",
      "Trainable params: 1,087,792\n",
      "Non-trainable params: 0\n",
      "_________________________________________________________________\n"
     ]
    }
   ],
   "source": [
    "model.summary()"
   ]
  },
  {
   "cell_type": "code",
   "execution_count": 21,
   "metadata": {},
   "outputs": [],
   "source": [
    "opt = tf.keras.optimizers.Adam()"
   ]
  },
  {
   "cell_type": "code",
   "execution_count": 22,
   "metadata": {},
   "outputs": [],
   "source": [
    "model.compile(optimizer=opt, loss='mse')"
   ]
  },
  {
   "cell_type": "code",
   "execution_count": 23,
   "metadata": {},
   "outputs": [],
   "source": [
    "# model.compile(tf.keras.optimizers.Adam(), loss=\"mse\")\n",
    "path_HDF5 = '/DFS-L/DATA/pritchard/ankitesg/models/'\n",
    "earlyStopping = EarlyStopping(monitor='val_loss', patience=10, verbose=0, mode='min')\n",
    "mcp_save = ModelCheckpoint(path_HDF5+'RH_RG_TrimTuned_Bounded_V2.h5',save_best_only=True, monitor='val_loss', mode='min')"
   ]
  },
  {
   "cell_type": "code",
   "execution_count": null,
   "metadata": {},
   "outputs": [
    {
     "name": "stdout",
     "output_type": "stream",
     "text": [
      "Epoch 1/12\n",
      "42120/42120 [==============================] - 1315s 31ms/step - batch: 21059.5000 - size: 1024.0000 - loss: 248.7958 - val_loss: 208.7655\n",
      "Epoch 2/12\n",
      "42120/42120 [==============================] - 1414s 34ms/step - batch: 21059.5000 - size: 1024.0000 - loss: 196.0527 - val_loss: 197.6260\n",
      "Epoch 3/12\n",
      "42120/42120 [==============================] - 1501s 36ms/step - batch: 21059.5000 - size: 1024.0000 - loss: 186.9671 - val_loss: 189.2006\n",
      "Epoch 4/12\n",
      "42120/42120 [==============================] - 1546s 37ms/step - batch: 21059.5000 - size: 1024.0000 - loss: 182.2475 - val_loss: 185.7055\n",
      "Epoch 5/12\n",
      "42120/42120 [==============================] - 2339s 56ms/step - batch: 21059.5000 - size: 1024.0000 - loss: 179.0873 - val_loss: 182.3395\n",
      "Epoch 6/12\n",
      "42118/42120 [============================>.] - ETA: 0s - batch: 21058.5000 - size: 1024.0000 - loss: 176.7431"
     ]
    }
   ],
   "source": [
    "with tf.device('/gpu:1'):\n",
    "    Nep = 12\n",
    "    model.fit_generator(train_gen, epochs=Nep, validation_data=valid_gen\n",
    "                        ,callbacks=[earlyStopping, mcp_save])"
   ]
  },
  {
   "cell_type": "code",
   "execution_count": null,
   "metadata": {},
   "outputs": [],
   "source": []
  }
 ],
 "metadata": {
  "kernelspec": {
   "display_name": "CBrainEnv2",
   "language": "python",
   "name": "cbrainenv2"
  },
  "language_info": {
   "codemirror_mode": {
    "name": "ipython",
    "version": 3
   },
   "file_extension": ".py",
   "mimetype": "text/x-python",
   "name": "python",
   "nbconvert_exporter": "python",
   "pygments_lexer": "ipython3",
   "version": "3.6.10"
  }
 },
 "nbformat": 4,
 "nbformat_minor": 4
}

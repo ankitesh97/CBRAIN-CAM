{
 "cells": [
  {
   "cell_type": "code",
   "execution_count": 1,
   "metadata": {},
   "outputs": [
    {
     "name": "stdout",
     "output_type": "stream",
     "text": [
      "WARNING:tensorflow:From /export/home/ankitesg/anaconda3/envs/CBrainEnv2/lib/python3.6/site-packages/tensorflow/python/compat/v2_compat.py:96: disable_resource_variables (from tensorflow.python.ops.variable_scope) is deprecated and will be removed in a future version.\n",
      "Instructions for updating:\n",
      "non-resource variables are not supported in the long term\n"
     ]
    }
   ],
   "source": [
    "from cbrain.imports import *\n",
    "from cbrain.data_generator import *\n",
    "from cbrain.cam_constants import *\n",
    "from cbrain.losses import *\n",
    "from cbrain.utils import limit_mem\n",
    "from cbrain.layers import *\n",
    "from cbrain.data_generator import DataGenerator\n",
    "import tensorflow as tf\n",
    "from tensorflow import math as tfm\n",
    "#import tensorflow_probability as tfp\n",
    "from tensorflow.keras.layers import *\n",
    "from tensorflow.keras.models import *\n",
    "import xarray as xr\n",
    "import numpy as np\n",
    "from cbrain.model_diagnostics import ModelDiagnostics\n",
    "import matplotlib as mpl\n",
    "import matplotlib.pyplot as plt\n",
    "import matplotlib.image as imag\n",
    "import scipy.integrate as sin\n",
    "#import cartopy.crs as ccrs\n",
    "import matplotlib.ticker as mticker\n",
    "#from cartopy.mpl.gridliner import LONGITUDE_FORMATTER, LATITUDE_FORMATTER\n",
    "import pickle\n",
    "import sklearn\n",
    "from sklearn.linear_model import LinearRegression\n",
    "from scipy import stats\n",
    "from sklearn.preprocessing import OneHotEncoder\n",
    "import seaborn as sns\n",
    "from cbrain.imports import *\n",
    "from cbrain.utils import *\n",
    "from cbrain.normalization import *\n",
    "import h5py\n",
    "from sklearn.preprocessing import OneHotEncoder\n",
    "from cbrain.climate_invariant import *\n",
    "import yaml\n",
    "from tensorflow.keras.callbacks import ModelCheckpoint, EarlyStopping"
   ]
  },
  {
   "cell_type": "code",
   "execution_count": null,
   "metadata": {},
   "outputs": [],
   "source": []
  },
  {
   "cell_type": "code",
   "execution_count": 2,
   "metadata": {},
   "outputs": [],
   "source": [
    "# Load coordinates (just pick any file from the climate model run)\n",
    "coor = xr.open_dataset(\"/DFS-L/DATA/pritchard/ankitesg/data/CESM2_f19_v13_updated_NN_pelayout01_ens_07.cam.h1.2003-01-22-00000.nc\",\\\n",
    "                    decode_times=False)\n",
    "lat = coor.lat; lon = coor.lon; lev = coor.lev;\n",
    "DATA_DIR = '/DFS-L/DATA/pritchard/ankitesg/datav3/'\n",
    "hyam = coor.hyam\n",
    "hybm = coor.hybm\n",
    "scale_dict = load_pickle('/export/nfs0home/ankitesg/tom/CBRAIN-CAM/nn_config/scale_dicts/2020_10_16_scale_dict_RG.pkl')['scale_dict_RG']"
   ]
  },
  {
   "cell_type": "code",
   "execution_count": 3,
   "metadata": {},
   "outputs": [],
   "source": [
    "in_vars = ['QBP','TBP','CLDLIQBP','CLDICEBP','PS', 'SOLIN', 'SHFLX', 'LHFLX']\n",
    "out_vars = ['QBCTEND','TBCTEND','CLDLIQBCTEND', 'CLDICEBCTEND', 'NN2L_FLWDS', 'NN2L_PRECC', \n",
    "            'NN2L_PRECSC', 'NN2L_SOLL', 'NN2L_SOLLD', 'NN2L_SOLS', 'NN2L_SOLSD', 'NN2L_NETSW']"
   ]
  },
  {
   "cell_type": "code",
   "execution_count": 4,
   "metadata": {},
   "outputs": [],
   "source": [
    "TRAINFILE = 'RG_SP_M4K_train_shuffle.nc'\n",
    "NORMFILE = 'RG_SP_M4K_NORM_norm.nc'\n",
    "VALIDFILE = 'RG_SP_M4K_valid.nc'"
   ]
  },
  {
   "cell_type": "code",
   "execution_count": 10,
   "metadata": {},
   "outputs": [],
   "source": [
    "class DataGeneratorClimInvRealGeo(DataGenerator):\n",
    "\n",
    "    def __init__(self, data_fn, input_vars, output_vars,\n",
    "             norm_fn=None, input_transform=None, output_transform=None,\n",
    "             batch_size=1024, shuffle=True, xarray=False, var_cut_off=None, normalize_flag=True,\n",
    "             rh_trans=True,t2tns_trans=True,\n",
    "             lhflx_trans=True,\n",
    "             scaling=True,interpolate=True,\n",
    "             hyam=None,hybm=None,\n",
    "             inp_subRH=None,inp_divRH=None,\n",
    "             inp_subTNS=None,inp_divTNS=None,\n",
    "             lev=None, interm_size=40,\n",
    "             lower_lim=6,\n",
    "             is_continous=True,Tnot=5,\n",
    "                mode='train', exp=None):\n",
    "        self.scaling = scaling\n",
    "        self.interpolate = interpolate\n",
    "        self.rh_trans = rh_trans\n",
    "        self.t2tns_trans = t2tns_trans\n",
    "        self.lhflx_trans = lhflx_trans\n",
    "        self.inp_shape = 64\n",
    "        self.exp = exp\n",
    "        self.mode=mode\n",
    "        super().__init__(data_fn, input_vars,output_vars,norm_fn,input_transform,output_transform,\n",
    "                        batch_size,shuffle,xarray,var_cut_off,normalize_flag) ## call the base data generator\n",
    "        self.inp_sub = self.input_transform.sub\n",
    "        self.inp_div = self.input_transform.div\n",
    "        self.new_idx = np.concatenate((np.arange(8,26),np.arange(34,52),np.arange(60,78),np.arange(86,104),np.arange(104,108)))\n",
    "        self.new_output_idx = np.concatenate((np.arange(8,26),np.arange(26,52),np.arange(60,78),np.arange(86,104),np.arange(104,112)))\n",
    "\n",
    "        if self.rh_trans:\n",
    "            self.qv2rhLayer = QV2RHNumpyReal(self.inp_sub,self.inp_div,inp_subRH,inp_divRH,hyam,hybm)\n",
    "\n",
    "    def __getitem__(self, index):\n",
    "        # Compute start and end indices for batch\n",
    "        start_idx = index * self.batch_size\n",
    "        end_idx = start_idx + self.batch_size\n",
    "        # Grab batch from data\n",
    "        batch = self.data_ds['vars'][start_idx:end_idx]\n",
    "        X = batch[:, self.input_idxs]\n",
    "        Y = batch[:, self.output_idxs]\n",
    "        # Normalize\n",
    "        X_norm = self.input_transform.transform(X)\n",
    "        Y = self.output_transform.transform(Y)\n",
    "        X_result = X_norm\n",
    "        if self.rh_trans:\n",
    "            X_result = self.qv2rhLayer.process(X_result)\n",
    "        return X_result[:,self.new_idx], Y"
   ]
  },
  {
   "cell_type": "markdown",
   "metadata": {},
   "source": [
    "### Model 1"
   ]
  },
  {
   "cell_type": "code",
   "execution_count": 26,
   "metadata": {},
   "outputs": [],
   "source": [
    "in_vars_RH = ['RH','TBP','CLDLIQBP','CLDICEBP','PS', 'SOLIN', 'SHFLX', 'LHFLX']\n",
    "BASE_DIR = '/DFS-L/DATA/pritchard/ankitesg/'\n",
    "in_vars = ['QBP','TBP','CLDLIQBP','CLDICEBP','PS', 'SOLIN', 'SHFLX', 'LHFLX']\n",
    "out_vars = ['QBCTEND','TBCTEND']"
   ]
  },
  {
   "cell_type": "code",
   "execution_count": 27,
   "metadata": {},
   "outputs": [],
   "source": [
    "TRAINFILE_RH = 'RG_RH_M4K_NORM_train_shuffle.nc'\n",
    "NORMFILE_RH = 'RG_RH_M4K_NORM_norm.nc'\n",
    "VALIDFILE_RH = 'RG_RH_M4K_NORM_valid.nc'"
   ]
  },
  {
   "cell_type": "code",
   "execution_count": 28,
   "metadata": {},
   "outputs": [],
   "source": [
    "train_gen_RH = DataGenerator(\n",
    "    data_fn = f\"{BASE_DIR}datav4/{TRAINFILE_RH}\",\n",
    "    input_vars = in_vars_RH,\n",
    "    output_vars = out_vars,\n",
    "    norm_fn = f\"{BASE_DIR}datav4/{NORMFILE_RH}\",\n",
    "    input_transform = ('mean', 'maxrs'),\n",
    "    output_transform = scale_dict,\n",
    "    batch_size=1024,\n",
    "    shuffle=True,\n",
    "    normalize_flag=True\n",
    ")"
   ]
  },
  {
   "cell_type": "code",
   "execution_count": 29,
   "metadata": {},
   "outputs": [
    {
     "data": {
      "text/plain": [
       "(1024, 108)"
      ]
     },
     "execution_count": 29,
     "metadata": {},
     "output_type": "execute_result"
    }
   ],
   "source": [
    "train_gen_RH[0][0].shape"
   ]
  },
  {
   "cell_type": "code",
   "execution_count": 17,
   "metadata": {},
   "outputs": [],
   "source": [
    "TRAINFILE = 'RG_SP_M4K_train_shuffle.nc'\n",
    "NORMFILE = 'RG_SP_M4K_NORM_norm.nc'\n",
    "VALIDFILE = 'RG_SP_M4K_valid.nc'"
   ]
  },
  {
   "cell_type": "code",
   "execution_count": 18,
   "metadata": {},
   "outputs": [],
   "source": [
    "train_gen = DataGeneratorClimInvRealGeo(\n",
    "    data_fn = f'{DATA_DIR}{TRAINFILE}',\n",
    "    input_vars = in_vars,\n",
    "    output_vars = out_vars,\n",
    "    norm_fn = f'{DATA_DIR}{NORMFILE}',\n",
    "    input_transform = ('mean', 'maxrs'),\n",
    "    output_transform = scale_dict,\n",
    "    batch_size=1024,\n",
    "    shuffle=True,\n",
    "    normalize_flag=True,\n",
    "    lev=lev,\n",
    "    hyam=hyam,hybm=hybm,\n",
    "    rh_trans = True,t2tns_trans=False,\n",
    "    lhflx_trans=False,\n",
    "    scaling=False,\n",
    "    interpolate=False,\n",
    "    inp_subRH=train_gen_RH.input_transform.sub,inp_divRH=train_gen_RH.input_transform.div\n",
    ")\n"
   ]
  },
  {
   "cell_type": "code",
   "execution_count": 23,
   "metadata": {},
   "outputs": [
    {
     "data": {
      "text/plain": [
       "(1024, 76)"
      ]
     },
     "execution_count": 23,
     "metadata": {},
     "output_type": "execute_result"
    }
   ],
   "source": [
    "train_gen[0][0].shape"
   ]
  },
  {
   "cell_type": "code",
   "execution_count": 24,
   "metadata": {},
   "outputs": [],
   "source": [
    "valid_gen = DataGeneratorClimInvRealGeo(\n",
    "    data_fn = f'{DATA_DIR}{VALIDFILE}',\n",
    "    input_vars = in_vars,\n",
    "    output_vars = out_vars,\n",
    "    norm_fn = f'{DATA_DIR}{NORMFILE}',\n",
    "    input_transform = ('mean', 'maxrs'),\n",
    "    output_transform = scale_dict,\n",
    "    batch_size=1024,\n",
    "    shuffle=True,\n",
    "    normalize_flag=True,\n",
    "    lev=lev,\n",
    "    hyam=hyam,hybm=hybm,\n",
    "    rh_trans = True,t2tns_trans=False,\n",
    "    lhflx_trans=False,\n",
    "    scaling=False,\n",
    "    interpolate=False,\n",
    "    inp_subRH=train_gen_RH.input_transform.sub,inp_divRH=train_gen_RH.input_transform.div\n",
    ")\n"
   ]
  },
  {
   "cell_type": "code",
   "execution_count": 25,
   "metadata": {},
   "outputs": [
    {
     "data": {
      "text/plain": [
       "(1024, 76)"
      ]
     },
     "execution_count": 25,
     "metadata": {},
     "output_type": "execute_result"
    }
   ],
   "source": [
    "valid_gen[0][0].shape"
   ]
  },
  {
   "cell_type": "code",
   "execution_count": 36,
   "metadata": {},
   "outputs": [],
   "source": [
    "model = Sequential()\n",
    "model.add(Input(shape=(76,)))\n",
    "model.add(Dense(320, activation='relu'))\n",
    "for i in range(6):\n",
    "    model.add(Dense(320, activation='relu'))\n",
    "model.add(Dense(52, activation='linear'))"
   ]
  },
  {
   "cell_type": "code",
   "execution_count": 37,
   "metadata": {},
   "outputs": [],
   "source": [
    "opt = tf.keras.optimizers.Adam()"
   ]
  },
  {
   "cell_type": "code",
   "execution_count": 38,
   "metadata": {},
   "outputs": [],
   "source": [
    "model.compile(optimizer=opt, loss='mse')"
   ]
  },
  {
   "cell_type": "code",
   "execution_count": 39,
   "metadata": {},
   "outputs": [],
   "source": [
    "# model.compile(tf.keras.optimizers.Adam(), loss=\"mse\")\n",
    "path_HDF5 = '/DFS-L/DATA/pritchard/ankitesg/models/'\n",
    "earlyStopping = EarlyStopping(monitor='val_loss', patience=10, verbose=0, mode='min')\n",
    "mcp_save = ModelCheckpoint(path_HDF5+'RH_RG_Model1_V1.h5',save_best_only=True, monitor='val_loss', mode='min')"
   ]
  },
  {
   "cell_type": "code",
   "execution_count": 40,
   "metadata": {},
   "outputs": [
    {
     "name": "stdout",
     "output_type": "stream",
     "text": [
      "Epoch 1/12\n",
      "42117/42120 [============================>.] - ETA: 0s - batch: 21058.0000 - size: 1024.0000 - loss: 289.9785WARNING:tensorflow:From /export/home/ankitesg/anaconda3/envs/CBrainEnv2/lib/python3.6/site-packages/tensorflow/python/keras/engine/training_v1.py:2048: Model.state_updates (from tensorflow.python.keras.engine.training) is deprecated and will be removed in a future version.\n",
      "Instructions for updating:\n",
      "This property should not be used in TensorFlow 2.0, as updates are applied automatically.\n",
      "42120/42120 [==============================] - 1945s 46ms/step - batch: 21059.5000 - size: 1024.0000 - loss: 289.9762 - val_loss: 282.8817\n",
      "Epoch 2/12\n",
      "42120/42120 [==============================] - 1858s 44ms/step - batch: 21059.5000 - size: 1024.0000 - loss: 259.9124 - val_loss: 259.0720\n",
      "Epoch 3/12\n",
      "42120/42120 [==============================] - 1968s 47ms/step - batch: 21059.5000 - size: 1024.0000 - loss: 252.4986 - val_loss: 255.5822\n",
      "Epoch 4/12\n",
      "42120/42120 [==============================] - 1044s 25ms/step - batch: 21059.5000 - size: 1024.0000 - loss: 248.2411 - val_loss: 251.0303\n",
      "Epoch 5/12\n",
      "42120/42120 [==============================] - 934s 22ms/step - batch: 21059.5000 - size: 1024.0000 - loss: 245.1426 - val_loss: 247.3706\n",
      "Epoch 6/12\n",
      "42120/42120 [==============================] - 838s 20ms/step - batch: 21059.5000 - size: 1024.0000 - loss: 242.9359 - val_loss: 243.8430\n",
      "Epoch 7/12\n",
      "42120/42120 [==============================] - 815s 19ms/step - batch: 21059.5000 - size: 1024.0000 - loss: 241.2108 - val_loss: 244.5717\n",
      "Epoch 8/12\n",
      "42120/42120 [==============================] - 818s 19ms/step - batch: 21059.5000 - size: 1024.0000 - loss: 239.7188 - val_loss: 243.6668\n",
      "Epoch 9/12\n",
      "42120/42120 [==============================] - 812s 19ms/step - batch: 21059.5000 - size: 1024.0000 - loss: 238.5613 - val_loss: 246.9017\n",
      "Epoch 10/12\n",
      "42120/42120 [==============================] - 978s 23ms/step - batch: 21059.5000 - size: 1024.0000 - loss: 237.4856 - val_loss: 240.1187\n",
      "Epoch 11/12\n",
      "42120/42120 [==============================] - 1020s 24ms/step - batch: 21059.5000 - size: 1024.0000 - loss: 236.5211 - val_loss: 241.0107\n",
      "Epoch 12/12\n",
      "42120/42120 [==============================] - 823s 20ms/step - batch: 21059.5000 - size: 1024.0000 - loss: 235.8031 - val_loss: 244.7137\n"
     ]
    }
   ],
   "source": [
    "with tf.device('/gpu:1'):\n",
    "    Nep = 12\n",
    "    model.fit_generator(train_gen, epochs=Nep, validation_data=valid_gen\n",
    "                        ,callbacks=[earlyStopping, mcp_save])"
   ]
  },
  {
   "cell_type": "code",
   "execution_count": null,
   "metadata": {},
   "outputs": [],
   "source": []
  },
  {
   "cell_type": "markdown",
   "metadata": {},
   "source": [
    "## Model 4"
   ]
  },
  {
   "cell_type": "code",
   "execution_count": 46,
   "metadata": {},
   "outputs": [],
   "source": [
    "in_vars_RH = ['RH','TBP','CLDLIQBP','CLDICEBP','PS', 'SOLIN', 'SHFLX', 'LHFLX']\n",
    "BASE_DIR = '/DFS-L/DATA/pritchard/ankitesg/'\n",
    "in_vars = ['QBP','TBP','CLDLIQBP','CLDICEBP','PS', 'SOLIN', 'SHFLX', 'LHFLX']\n",
    "out_vars = ['NN2L_FLWDS', 'NN2L_PRECC', \n",
    "            'NN2L_PRECSC', 'NN2L_SOLL', 'NN2L_SOLLD', 'NN2L_SOLS', 'NN2L_SOLSD', 'NN2L_NETSW']"
   ]
  },
  {
   "cell_type": "code",
   "execution_count": 47,
   "metadata": {},
   "outputs": [],
   "source": [
    "TRAINFILE = 'RG_SP_M4K_train_shuffle.nc'\n",
    "NORMFILE = 'RG_SP_M4K_NORM_norm.nc'\n",
    "VALIDFILE = 'RG_SP_M4K_valid.nc'"
   ]
  },
  {
   "cell_type": "code",
   "execution_count": 48,
   "metadata": {},
   "outputs": [],
   "source": [
    "train_gen = DataGeneratorClimInvRealGeo(\n",
    "    data_fn = f'{DATA_DIR}{TRAINFILE}',\n",
    "    input_vars = in_vars,\n",
    "    output_vars = out_vars,\n",
    "    norm_fn = f'{DATA_DIR}{NORMFILE}',\n",
    "    input_transform = ('mean', 'maxrs'),\n",
    "    output_transform = scale_dict,\n",
    "    batch_size=1024,\n",
    "    shuffle=True,\n",
    "    normalize_flag=True,\n",
    "    lev=lev,\n",
    "    hyam=hyam,hybm=hybm,\n",
    "    rh_trans = True,t2tns_trans=False,\n",
    "    lhflx_trans=False,\n",
    "    scaling=False,\n",
    "    interpolate=False,\n",
    "    inp_subRH=train_gen_RH.input_transform.sub,inp_divRH=train_gen_RH.input_transform.div\n",
    ")\n"
   ]
  },
  {
   "cell_type": "code",
   "execution_count": 55,
   "metadata": {},
   "outputs": [],
   "source": [
    "valid_gen = DataGeneratorClimInvRealGeo(\n",
    "    data_fn = f'{DATA_DIR}{VALIDFILE}',\n",
    "    input_vars = in_vars,\n",
    "    output_vars = out_vars,\n",
    "    norm_fn = f'{DATA_DIR}{NORMFILE}',\n",
    "    input_transform = ('mean', 'maxrs'),\n",
    "    output_transform = scale_dict,\n",
    "    batch_size=1024,\n",
    "    shuffle=True,\n",
    "    normalize_flag=True,\n",
    "    lev=lev,\n",
    "    hyam=hyam,hybm=hybm,\n",
    "    rh_trans = True,t2tns_trans=False,\n",
    "    lhflx_trans=False,\n",
    "    scaling=False,\n",
    "    interpolate=False,\n",
    "    inp_subRH=train_gen_RH.input_transform.sub,inp_divRH=train_gen_RH.input_transform.div\n",
    ")\n"
   ]
  },
  {
   "cell_type": "code",
   "execution_count": 56,
   "metadata": {},
   "outputs": [
    {
     "data": {
      "text/plain": [
       "(1024, 8)"
      ]
     },
     "execution_count": 56,
     "metadata": {},
     "output_type": "execute_result"
    }
   ],
   "source": [
    "valid_gen[0][1].shape"
   ]
  },
  {
   "cell_type": "code",
   "execution_count": 51,
   "metadata": {},
   "outputs": [],
   "source": [
    "model = Sequential()\n",
    "model.add(Input(shape=(76,)))\n",
    "model.add(Dense(320, activation='relu'))\n",
    "for i in range(4):\n",
    "    model.add(Dense(320, activation='relu'))\n",
    "model.add(Dense(8, activation='linear'))"
   ]
  },
  {
   "cell_type": "code",
   "execution_count": 52,
   "metadata": {},
   "outputs": [],
   "source": [
    "opt = tf.keras.optimizers.Adam()"
   ]
  },
  {
   "cell_type": "code",
   "execution_count": 53,
   "metadata": {},
   "outputs": [],
   "source": [
    "model.compile(optimizer=opt, loss='mse')"
   ]
  },
  {
   "cell_type": "code",
   "execution_count": 54,
   "metadata": {},
   "outputs": [],
   "source": [
    "# model.compile(tf.keras.optimizers.Adam(), loss=\"mse\")\n",
    "path_HDF5 = '/DFS-L/DATA/pritchard/ankitesg/models/'\n",
    "earlyStopping = EarlyStopping(monitor='val_loss', patience=10, verbose=0, mode='min')\n",
    "mcp_save = ModelCheckpoint(path_HDF5+'RH_RG_Model4_V1.h5',save_best_only=True, monitor='val_loss', mode='min')"
   ]
  },
  {
   "cell_type": "code",
   "execution_count": 57,
   "metadata": {},
   "outputs": [
    {
     "name": "stdout",
     "output_type": "stream",
     "text": [
      "Epoch 1/10\n",
      "42120/42120 [==============================] - 783s 19ms/step - batch: 21059.5000 - size: 1024.0000 - loss: 835.5417 - val_loss: 738.5516\n",
      "Epoch 2/10\n",
      "42120/42120 [==============================] - 786s 19ms/step - batch: 21059.5000 - size: 1024.0000 - loss: 671.7713 - val_loss: 688.3112\n",
      "Epoch 3/10\n",
      "42120/42120 [==============================] - 788s 19ms/step - batch: 21059.5000 - size: 1024.0000 - loss: 644.4573 - val_loss: 673.6551\n",
      "Epoch 4/10\n",
      "42120/42120 [==============================] - 790s 19ms/step - batch: 21059.5000 - size: 1024.0000 - loss: 626.5872 - val_loss: 645.4369\n",
      "Epoch 5/10\n",
      "42120/42120 [==============================] - 814s 19ms/step - batch: 21059.5000 - size: 1024.0000 - loss: 615.4309 - val_loss: 705.3048\n",
      "Epoch 6/10\n",
      "42120/42120 [==============================] - 798s 19ms/step - batch: 21059.5000 - size: 1024.0000 - loss: 605.9858 - val_loss: 651.3911\n",
      "Epoch 7/10\n",
      "42120/42120 [==============================] - 897s 21ms/step - batch: 21059.5000 - size: 1024.0000 - loss: 597.6308 - val_loss: 638.1733\n",
      "Epoch 8/10\n",
      "42120/42120 [==============================] - 1687s 40ms/step - batch: 21059.5000 - size: 1024.0000 - loss: 592.1719 - val_loss: 637.9525\n",
      "Epoch 9/10\n",
      "42120/42120 [==============================] - 793s 19ms/step - batch: 21059.5000 - size: 1024.0000 - loss: 586.9518 - val_loss: 653.0967\n",
      "Epoch 10/10\n",
      "42120/42120 [==============================] - 781s 19ms/step - batch: 21059.5000 - size: 1024.0000 - loss: 582.7652 - val_loss: 619.5514\n"
     ]
    }
   ],
   "source": [
    "with tf.device('/gpu:1'):\n",
    "    Nep = 10\n",
    "    model.fit_generator(train_gen, epochs=Nep, validation_data=valid_gen\n",
    "                        ,callbacks=[earlyStopping, mcp_save])"
   ]
  },
  {
   "cell_type": "code",
   "execution_count": null,
   "metadata": {},
   "outputs": [],
   "source": []
  }
 ],
 "metadata": {
  "kernelspec": {
   "display_name": "CBrainEnv2",
   "language": "python",
   "name": "cbrainenv2"
  },
  "language_info": {
   "codemirror_mode": {
    "name": "ipython",
    "version": 3
   },
   "file_extension": ".py",
   "mimetype": "text/x-python",
   "name": "python",
   "nbconvert_exporter": "python",
   "pygments_lexer": "ipython3",
   "version": "3.6.10"
  }
 },
 "nbformat": 4,
 "nbformat_minor": 4
}

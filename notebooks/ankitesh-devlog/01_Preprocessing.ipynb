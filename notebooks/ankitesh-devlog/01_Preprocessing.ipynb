{
 "cells": [
  {
   "cell_type": "markdown",
   "metadata": {},
   "source": [
    "# Preprocessing (For Full Network)"
   ]
  },
  {
   "cell_type": "code",
   "execution_count": 8,
   "metadata": {},
   "outputs": [],
   "source": [
    "\n",
    "import sys\n",
    "sys.path.insert(1,\"/home1/07064/tg863631/anaconda3/envs/CbrainCustomLayer/lib/python3.6/site-packages\") #work around for h5py\n",
    "from cbrain.imports import *\n",
    "from cbrain.cam_constants import *\n",
    "from cbrain.utils import *\n",
    "from cbrain.layers import *\n",
    "from cbrain.data_generator import DataGenerator\n",
    "import tensorflow as tf\n",
    "from tensorflow.keras.layers import *\n",
    "from tensorflow.keras.models import *\n",
    "import xarray as xr\n",
    "import numpy as np\n",
    "from cbrain.model_diagnostics import ModelDiagnostics\n",
    "import matplotlib as mpl\n",
    "import matplotlib.pyplot as plt\n",
    "import matplotlib.image as imag\n",
    "import scipy.integrate as sin\n",
    "import matplotlib.ticker as mticker\n",
    "import pickle\n"
   ]
  },
  {
   "cell_type": "code",
   "execution_count": 9,
   "metadata": {},
   "outputs": [
    {
     "name": "stdout",
     "output_type": "stream",
     "text": [
      "/home/ankitesh/CBRAIN-CAM\n"
     ]
    }
   ],
   "source": [
    "cd ../../"
   ]
  },
  {
   "cell_type": "markdown",
   "metadata": {},
   "source": [
    "## Preprocess Norm files"
   ]
  },
  {
   "cell_type": "markdown",
   "metadata": {},
   "source": [
    "Note: you need to pass a yml file like one below stating the variables that you want to preprocess."
   ]
  },
  {
   "cell_type": "markdown",
   "metadata": {},
   "source": [
    "**CI_RH_M4K_NORM.yml**\n",
    "\n",
    "vars : [RH, TBP, PS, SOLIN, SHFLX, LHFLX,TS,QRL,QRS, PHQ, TPHYSTND, FSNT, FSNS, FLNT, FLNS]\n",
    "\n",
    "in_dir : /scratch/05823/tg851228/CBRAIN/sp8fbp_minus4k\n",
    "in_fns : sp8fbp_minus4k.cam2.h2.0001-01-0*-00000.nc\n",
    "\n",
    "out_dir: /scratch/07064/tg863631/PrepData/WTS/split\n",
    "out_fn: CI_RH_M4K_WTS_NORM_train.nc\n",
    "\n",
    "val_in_fns: sp8fbp_minus4k.cam2.h2.0001-01-0*-00000.nc\n",
    "val_out_fn: CI_RH_M4K_WTS_NORM_valid.nc\n",
    "\n",
    "norm_fn: CI_RH_M4K_WTS_NORM_norm.nc\n",
    "\n",
    "split_bflx: True\n"
   ]
  },
  {
   "cell_type": "code",
   "execution_count": null,
   "metadata": {},
   "outputs": [],
   "source": []
  },
  {
   "cell_type": "markdown",
   "metadata": {},
   "source": [
    "Note: split_bflx enables the split flag to split for CRH>=0.8 and CRH<0.8"
   ]
  },
  {
   "cell_type": "markdown",
   "metadata": {},
   "source": [
    "#### Preprocessing norm file for RH"
   ]
  },
  {
   "cell_type": "code",
   "execution_count": null,
   "metadata": {},
   "outputs": [],
   "source": [
    "!python preprocessing.py -c /home1/07064/tg863631/CBrain_project/PrepData/CI_RH_M4K_NORM.yml"
   ]
  },
  {
   "cell_type": "markdown",
   "metadata": {},
   "source": [
    "#### Preprocessing norm file for TNS"
   ]
  },
  {
   "cell_type": "code",
   "execution_count": null,
   "metadata": {},
   "outputs": [],
   "source": [
    "!python preprocessing.py -c /home1/07064/tg863631/CBrain_project/PrepData/CI_TNS_M4K_NORM.yml"
   ]
  },
  {
   "cell_type": "markdown",
   "metadata": {},
   "source": [
    "#### Preprocessing norm file for M4K data"
   ]
  },
  {
   "cell_type": "code",
   "execution_count": null,
   "metadata": {},
   "outputs": [],
   "source": [
    "!python preprocessing.py -c /home1/07064/tg863631/CBrain_project/PrepData/CI_SP_M4K_NORM.yml"
   ]
  },
  {
   "cell_type": "markdown",
   "metadata": {},
   "source": [
    "## Preprocess Data Files"
   ]
  },
  {
   "cell_type": "markdown",
   "metadata": {},
   "source": [
    "#### Preprocessing M4K data file"
   ]
  },
  {
   "cell_type": "code",
   "execution_count": null,
   "metadata": {},
   "outputs": [],
   "source": [
    "!python preprocessing-11132019.py -c /home1/07064/tg863631/CBrain_project/PrepData/CI_SP_M4K.yml"
   ]
  },
  {
   "cell_type": "markdown",
   "metadata": {},
   "source": [
    "#### Preprocessing P4K data file"
   ]
  },
  {
   "cell_type": "code",
   "execution_count": null,
   "metadata": {},
   "outputs": [],
   "source": [
    "!python preprocessing-11132019.py -c /home1/07064/tg863631/CBrain_project/PrepData/CI_SP_P4K.yml"
   ]
  }
 ],
 "metadata": {
  "kernelspec": {
   "display_name": "CbrainCustomLayer",
   "language": "python",
   "name": "cbraincustomlayer"
  },
  "language_info": {
   "codemirror_mode": {
    "name": "ipython",
    "version": 3
   },
   "file_extension": ".py",
   "mimetype": "text/x-python",
   "name": "python",
   "nbconvert_exporter": "python",
   "pygments_lexer": "ipython3",
   "version": "3.7.3"
  }
 },
 "nbformat": 4,
 "nbformat_minor": 4
}
